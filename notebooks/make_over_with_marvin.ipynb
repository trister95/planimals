{
 "cells": [
  {
   "cell_type": "markdown",
   "metadata": {},
   "source": [
    "Can only start this when Marvin brings out a version that's compatible with the new OpenAI library."
   ]
  },
  {
   "cell_type": "code",
   "execution_count": 1,
   "metadata": {},
   "outputs": [],
   "source": [
    "from environs import Env\n",
    "import openai\n",
    "from marvin import ai_model\n",
    "from pydantic import BaseModel, Field\n",
    "\n",
    "env = Env()\n",
    "env.read_env(\".env\")  # Read .env file\n",
    "OPENAI_API_KEY = env(\"OPENAI_API_KEY\")  # Get the API key\n",
    "openai.api_key = OPENAI_API_KEY"
   ]
  },
  {
   "cell_type": "code",
   "execution_count": 21,
   "metadata": {},
   "outputs": [
    {
     "data": {
      "text/html": [
       "<pre style=\"white-space:pre;overflow-x:auto;line-height:normal;font-family:Menlo,'DejaVu Sans Mono',consolas,'Courier New',monospace\"><span style=\"color: #7fbfbf; text-decoration-color: #7fbfbf\">[01/05/24 15:15:53] </span><span style=\"color: #008000; text-decoration-color: #008000\">DEBUG   </span> marvin.AIModel: <span style=\"color: #000000; text-decoration-color: #000000; background-color: #ffffff\">Calling `ai_model` </span><span style=\"color: #008000; text-decoration-color: #008000; background-color: #ffffff\">'Plants_and_animals'</span><span style=\"color: #000000; text-decoration-color: #000000; background-color: #ffffff\">: with </span><span style=\"color: #008000; text-decoration-color: #008000; background-color: #ffffff\">'Of men </span>   <a href=\"file:///home/arjan_v_d/.local/lib/python3.11/site-packages/marvin/utilities/logging.py\" target=\"_blank\"><span style=\"color: #7f7f7f; text-decoration-color: #7f7f7f\">logging.py</span></a><span style=\"color: #7f7f7f; text-decoration-color: #7f7f7f\">:</span><a href=\"file:///home/arjan_v_d/.local/lib/python3.11/site-packages/marvin/utilities/logging.py#65\" target=\"_blank\"><span style=\"color: #7f7f7f; text-decoration-color: #7f7f7f\">65</span></a>\n",
       "<span style=\"color: #7fbfbf; text-decoration-color: #7fbfbf\">                    </span>         <span style=\"color: #008000; text-decoration-color: #008000; background-color: #ffffff\">neemt drie handvollen van dat kruid, eer dat het gebloeid heeft, twe </span>    <span style=\"color: #7f7f7f; text-decoration-color: #7f7f7f\">             </span>\n",
       "<span style=\"color: #7fbfbf; text-decoration-color: #7fbfbf\">                    </span>         <span style=\"color: #008000; text-decoration-color: #008000; background-color: #ffffff\">handen vol Kamillen, of boter bloemen.'</span>                                  <span style=\"color: #7f7f7f; text-decoration-color: #7f7f7f\">             </span>\n",
       "</pre>\n"
      ],
      "text/plain": [
       "\u001b[2;36m[01/05/24 15:15:53]\u001b[0m\u001b[2;36m \u001b[0m\u001b[32mDEBUG   \u001b[0m marvin.AIModel: \u001b[39;49mCalling `ai_model` \u001b[0m\u001b[32;49m'Plants_and_animals'\u001b[0m\u001b[39;49m: \u001b[0m\u001b[39;49mwith \u001b[0m\u001b[32;49m'Of men \u001b[0m   \u001b]8;id=645303;file:///home/arjan_v_d/.local/lib/python3.11/site-packages/marvin/utilities/logging.py\u001b\\\u001b[2mlogging.py\u001b[0m\u001b]8;;\u001b\\\u001b[2m:\u001b[0m\u001b]8;id=998366;file:///home/arjan_v_d/.local/lib/python3.11/site-packages/marvin/utilities/logging.py#65\u001b\\\u001b[2m65\u001b[0m\u001b]8;;\u001b\\\n",
       "\u001b[2;36m                    \u001b[0m         \u001b[32;49mneemt drie handvollen van dat kruid, eer dat het gebloeid heeft, twe \u001b[0m    \u001b[2m             \u001b[0m\n",
       "\u001b[2;36m                    \u001b[0m         \u001b[32;49mhanden vol Kamillen, of boter bloemen.'\u001b[0m                                  \u001b[2m             \u001b[0m\n"
      ]
     },
     "metadata": {},
     "output_type": "display_data"
    },
    {
     "data": {
      "text/plain": [
       "Plants_and_animals(plants=['kruid', 'Kamillen', 'boter bloemen'], animals=[], sentence='Of men neemt drie handvollen van dat kruid, eer dat het gebloeid heeft, twe handen vol Kamillen, of boter bloemen.')"
      ]
     },
     "execution_count": 21,
     "metadata": {},
     "output_type": "execute_result"
    }
   ],
   "source": [
    "@ai_model\n",
    "class Plants_and_animals(BaseModel):\n",
    "    \"\"\" A representation of all the plants and animals present in the sentence\"\"\"\n",
    "    plants: list[str] = Field(description=\"The plants present in the sentence\")\n",
    "    animals: list[str] = Field(description= \"The animals present in the sentence\")\n",
    "    sentence: str = Field(description= \"the sentence itself\")\n",
    "\n",
    "\n",
    "Plants_and_animals(\"Of men neemt drie handvollen van dat kruid, eer dat het gebloeid heeft, twe handen vol Kamillen, of boter bloemen.\")\n"
   ]
  },
  {
   "cell_type": "code",
   "execution_count": 24,
   "metadata": {},
   "outputs": [],
   "source": [
    "import pandas as pd\n",
    "output_gpt_and_bert = pd.read_csv(\"../data/llm_annotation/disagreement_analysis/round2/llm_and_ner_combination_round2.csv\")\n",
    "disagreements= output_gpt_and_bert.loc[output_gpt_and_bert[\"disagreement\"]==True]\n"
   ]
  },
  {
   "cell_type": "code",
   "execution_count": 28,
   "metadata": {},
   "outputs": [],
   "source": [
    "disagreements = disagreements.drop(columns =[\"Unnamed: 0.1\", \"Unnamed: 0\", \"flagged\", \"disagreement\"])"
   ]
  },
  {
   "cell_type": "code",
   "execution_count": 54,
   "metadata": {},
   "outputs": [],
   "source": [
    "import ast\n",
    "\n",
    "def create_gpt4_prompt(row):\n",
    "    def extract_entities(labels, entity_type, sentence):\n",
    "        entities = []\n",
    "        if isinstance(labels, list):\n",
    "            for label in labels:\n",
    "                if label[2] == entity_type:\n",
    "                    # Extract the text snippet using the start and end indices\n",
    "                    start, end = label[:2]\n",
    "                    entity_text = sentence[start:end]\n",
    "                    entities.append(entity_text)\n",
    "        return entities\n",
    "\n",
    "    sentence = row['sentence']\n",
    "\n",
    "    try:\n",
    "        gpt_labels = ast.literal_eval(row['label'])\n",
    "        hf_labels = ast.literal_eval(row['huggingface_labels'])\n",
    "\n",
    "        if not isinstance(gpt_labels, list):\n",
    "            gpt_labels = []\n",
    "        if not isinstance(hf_labels, list):\n",
    "            hf_labels = []\n",
    "    except (SyntaxError, ValueError):\n",
    "        # Handle potential syntax errors or invalid data gracefully\n",
    "        gpt_labels = []\n",
    "        hf_labels = []\n",
    "\n",
    "    gpt_plants = extract_entities(gpt_labels, 'plants', sentence)\n",
    "    gpt_animals = extract_entities(gpt_labels, 'animals', sentence)\n",
    "    hf_plants = extract_entities(hf_labels, 'plants', sentence)\n",
    "    hf_animals = extract_entities(hf_labels, 'animals', sentence)\n",
    "\n",
    "    prompt = (\n",
    "        f\"Sentence: '{sentence}'\\n\"\n",
    "        f\"Model1 (GPT) found the following plants: {gpt_plants}, and the following animals: {gpt_animals}.\\n\"\n",
    "        f\"Model2 (Hugging Face) found the following plants: {hf_plants}, and the following animals: {hf_animals}.\\n\")\n",
    "\n",
    "    return prompt\n",
    "\n",
    "# Apply the function to the DataFrame\n",
    "disagreements['prompt'] = disagreements.apply(create_gpt4_prompt, axis=1)\n",
    "prompts = disagreements['prompt'].tolist()\n"
   ]
  },
  {
   "cell_type": "code",
   "execution_count": 60,
   "metadata": {},
   "outputs": [
    {
     "name": "stderr",
     "output_type": "stream",
     "text": [
      "  0%|          | 0/10 [00:00<?, ?it/s]"
     ]
    },
    {
     "data": {
      "text/html": [
       "<pre style=\"white-space:pre;overflow-x:auto;line-height:normal;font-family:Menlo,'DejaVu Sans Mono',consolas,'Courier New',monospace\"><span style=\"color: #7fbfbf; text-decoration-color: #7fbfbf\">[01/08/24 11:07:03] </span><span style=\"color: #008000; text-decoration-color: #008000\">DEBUG   </span> marvin.AIModel: <span style=\"color: #000000; text-decoration-color: #000000; background-color: #ffffff\">Calling `ai_model` </span><span style=\"color: #008000; text-decoration-color: #008000; background-color: #ffffff\">'Decide_on_annotations'</span><span style=\"color: #000000; text-decoration-color: #000000; background-color: #ffffff\">: with </span>        <a href=\"file:///home/arjan_v_d/.local/lib/python3.11/site-packages/marvin/utilities/logging.py\" target=\"_blank\"><span style=\"color: #7f7f7f; text-decoration-color: #7f7f7f\">logging.py</span></a><span style=\"color: #7f7f7f; text-decoration-color: #7f7f7f\">:</span><a href=\"file:///home/arjan_v_d/.local/lib/python3.11/site-packages/marvin/utilities/logging.py#65\" target=\"_blank\"><span style=\"color: #7f7f7f; text-decoration-color: #7f7f7f\">65</span></a>\n",
       "<span style=\"color: #7fbfbf; text-decoration-color: #7fbfbf\">                    </span>         <span style=\"color: #008000; text-decoration-color: #008000; background-color: #ffffff\">\"Sentence: 'De jonge Ojevaars eindelyk genoegzaame kragten gekreegen </span>    <span style=\"color: #7f7f7f; text-decoration-color: #7f7f7f\">             </span>\n",
       "<span style=\"color: #7fbfbf; text-decoration-color: #7fbfbf\">                    </span>         <span style=\"color: #008000; text-decoration-color: #008000; background-color: #ffffff\">hebbende, vervoegen zich in de vlugt by de Ouden, en vertrekken in de </span>   <span style=\"color: #7f7f7f; text-decoration-color: #7f7f7f\">             </span>\n",
       "<span style=\"color: #7fbfbf; text-decoration-color: #7fbfbf\">                    </span>         <span style=\"color: #008000; text-decoration-color: #008000; background-color: #ffffff\">laatste dagen van Augustus.'\\nModel1 (GPT) found the following plants: </span>  <span style=\"color: #7f7f7f; text-decoration-color: #7f7f7f\">             </span>\n",
       "<span style=\"color: #7fbfbf; text-decoration-color: #7fbfbf\">                    </span>         <span style=\"color: #008000; text-decoration-color: #008000; background-color: #ffffff\">[], and the following animals: ['Ojevaars', 'Ouden'].\\nModel2 (Hugging </span>  <span style=\"color: #7f7f7f; text-decoration-color: #7f7f7f\">             </span>\n",
       "<span style=\"color: #7fbfbf; text-decoration-color: #7fbfbf\">                    </span>         <span style=\"color: #008000; text-decoration-color: #008000; background-color: #ffffff\">Face) found the following plants: [], and the following animals: </span>        <span style=\"color: #7f7f7f; text-decoration-color: #7f7f7f\">             </span>\n",
       "<span style=\"color: #7fbfbf; text-decoration-color: #7fbfbf\">                    </span>         <span style=\"color: #008000; text-decoration-color: #008000; background-color: #ffffff\">['Ojevaars'].\\n\"</span>                                                         <span style=\"color: #7f7f7f; text-decoration-color: #7f7f7f\">             </span>\n",
       "</pre>\n"
      ],
      "text/plain": [
       "\u001b[2;36m[01/08/24 11:07:03]\u001b[0m\u001b[2;36m \u001b[0m\u001b[32mDEBUG   \u001b[0m marvin.AIModel: \u001b[39;49mCalling `ai_model` \u001b[0m\u001b[32;49m'Decide_on_annotations'\u001b[0m\u001b[39;49m: \u001b[0m\u001b[39;49mwith \u001b[0m        \u001b]8;id=465532;file:///home/arjan_v_d/.local/lib/python3.11/site-packages/marvin/utilities/logging.py\u001b\\\u001b[2mlogging.py\u001b[0m\u001b]8;;\u001b\\\u001b[2m:\u001b[0m\u001b]8;id=119486;file:///home/arjan_v_d/.local/lib/python3.11/site-packages/marvin/utilities/logging.py#65\u001b\\\u001b[2m65\u001b[0m\u001b]8;;\u001b\\\n",
       "\u001b[2;36m                    \u001b[0m         \u001b[32;49m\"Sentence: 'De jonge Ojevaars eindelyk genoegzaame kragten gekreegen \u001b[0m    \u001b[2m             \u001b[0m\n",
       "\u001b[2;36m                    \u001b[0m         \u001b[32;49mhebbende, vervoegen zich in de vlugt by de Ouden, en vertrekken in de \u001b[0m   \u001b[2m             \u001b[0m\n",
       "\u001b[2;36m                    \u001b[0m         \u001b[32;49mlaatste dagen van Augustus.'\\nModel1 \u001b[0m\u001b[32;49m(\u001b[0m\u001b[32;49mGPT\u001b[0m\u001b[32;49m)\u001b[0m\u001b[32;49m found the following plants: \u001b[0m  \u001b[2m             \u001b[0m\n",
       "\u001b[2;36m                    \u001b[0m         \u001b[32;49m[\u001b[0m\u001b[32;49m]\u001b[0m\u001b[32;49m, and the following animals: \u001b[0m\u001b[32;49m[\u001b[0m\u001b[32;49m'Ojevaars', 'Ouden'\u001b[0m\u001b[32;49m]\u001b[0m\u001b[32;49m.\\nModel2 \u001b[0m\u001b[32;49m(\u001b[0m\u001b[32;49mHugging \u001b[0m  \u001b[2m             \u001b[0m\n",
       "\u001b[2;36m                    \u001b[0m         \u001b[32;49mFace\u001b[0m\u001b[32;49m)\u001b[0m\u001b[32;49m found the following plants: \u001b[0m\u001b[32;49m[\u001b[0m\u001b[32;49m]\u001b[0m\u001b[32;49m, and the following animals: \u001b[0m        \u001b[2m             \u001b[0m\n",
       "\u001b[2;36m                    \u001b[0m         \u001b[32;49m[\u001b[0m\u001b[32;49m'Ojevaars'\u001b[0m\u001b[32;49m]\u001b[0m\u001b[32;49m.\\n\"\u001b[0m                                                         \u001b[2m             \u001b[0m\n"
      ]
     },
     "metadata": {},
     "output_type": "display_data"
    },
    {
     "name": "stderr",
     "output_type": "stream",
     "text": [
      " 10%|█         | 1/10 [00:13<02:05, 13.95s/it]"
     ]
    },
    {
     "name": "stdout",
     "output_type": "stream",
     "text": [
      "plants=[] animals=['Ojevaars'] sentence='De jonge Ojevaars eindelyk genoegzaame kragten gekreegen hebbende, vervoegen zich in de vlugt by de Ouden, en vertrekken in de laatste dagen van Augustus.'\n"
     ]
    },
    {
     "data": {
      "text/html": [
       "<pre style=\"white-space:pre;overflow-x:auto;line-height:normal;font-family:Menlo,'DejaVu Sans Mono',consolas,'Courier New',monospace\"><span style=\"color: #7fbfbf; text-decoration-color: #7fbfbf\">[01/08/24 11:07:17] </span><span style=\"color: #008000; text-decoration-color: #008000\">DEBUG   </span> marvin.AIModel: <span style=\"color: #000000; text-decoration-color: #000000; background-color: #ffffff\">Calling `ai_model` </span><span style=\"color: #008000; text-decoration-color: #008000; background-color: #ffffff\">'Decide_on_annotations'</span><span style=\"color: #000000; text-decoration-color: #000000; background-color: #ffffff\">: with </span>        <a href=\"file:///home/arjan_v_d/.local/lib/python3.11/site-packages/marvin/utilities/logging.py\" target=\"_blank\"><span style=\"color: #7f7f7f; text-decoration-color: #7f7f7f\">logging.py</span></a><span style=\"color: #7f7f7f; text-decoration-color: #7f7f7f\">:</span><a href=\"file:///home/arjan_v_d/.local/lib/python3.11/site-packages/marvin/utilities/logging.py#65\" target=\"_blank\"><span style=\"color: #7f7f7f; text-decoration-color: #7f7f7f\">65</span></a>\n",
       "<span style=\"color: #7fbfbf; text-decoration-color: #7fbfbf\">                    </span>         <span style=\"color: #008000; text-decoration-color: #008000; background-color: #ffffff\">\"Sentence: 'De Oever-zwaluwen komen in Frankryk, en vertrekken bykans op</span> <span style=\"color: #7f7f7f; text-decoration-color: #7f7f7f\">             </span>\n",
       "<span style=\"color: #7fbfbf; text-decoration-color: #7fbfbf\">                    </span>         <span style=\"color: #008000; text-decoration-color: #008000; background-color: #ffffff\">denzelfden tyd als de Boeren-zwaluwen.'\\nModel1 (GPT) found the </span>         <span style=\"color: #7f7f7f; text-decoration-color: #7f7f7f\">             </span>\n",
       "<span style=\"color: #7fbfbf; text-decoration-color: #7fbfbf\">                    </span>         <span style=\"color: #008000; text-decoration-color: #008000; background-color: #ffffff\">following plants: [], and the following animals: ['Oever-zwaluwen', </span>     <span style=\"color: #7f7f7f; text-decoration-color: #7f7f7f\">             </span>\n",
       "<span style=\"color: #7fbfbf; text-decoration-color: #7fbfbf\">                    </span>         <span style=\"color: #008000; text-decoration-color: #008000; background-color: #ffffff\">'Boeren-zwaluwen'].\\nModel2 (Hugging Face) found the following plants: </span>  <span style=\"color: #7f7f7f; text-decoration-color: #7f7f7f\">             </span>\n",
       "<span style=\"color: #7fbfbf; text-decoration-color: #7fbfbf\">                    </span>         <span style=\"color: #008000; text-decoration-color: #008000; background-color: #ffffff\">[], and the following animals: ['zwaluwen', 'zwaluwen'].\\n\"</span>              <span style=\"color: #7f7f7f; text-decoration-color: #7f7f7f\">             </span>\n",
       "</pre>\n"
      ],
      "text/plain": [
       "\u001b[2;36m[01/08/24 11:07:17]\u001b[0m\u001b[2;36m \u001b[0m\u001b[32mDEBUG   \u001b[0m marvin.AIModel: \u001b[39;49mCalling `ai_model` \u001b[0m\u001b[32;49m'Decide_on_annotations'\u001b[0m\u001b[39;49m: \u001b[0m\u001b[39;49mwith \u001b[0m        \u001b]8;id=346547;file:///home/arjan_v_d/.local/lib/python3.11/site-packages/marvin/utilities/logging.py\u001b\\\u001b[2mlogging.py\u001b[0m\u001b]8;;\u001b\\\u001b[2m:\u001b[0m\u001b]8;id=513401;file:///home/arjan_v_d/.local/lib/python3.11/site-packages/marvin/utilities/logging.py#65\u001b\\\u001b[2m65\u001b[0m\u001b]8;;\u001b\\\n",
       "\u001b[2;36m                    \u001b[0m         \u001b[32;49m\"Sentence: 'De Oever-zwaluwen komen in Frankryk, en vertrekken bykans op\u001b[0m \u001b[2m             \u001b[0m\n",
       "\u001b[2;36m                    \u001b[0m         \u001b[32;49mdenzelfden tyd als de Boeren-zwaluwen.'\\nModel1 \u001b[0m\u001b[32;49m(\u001b[0m\u001b[32;49mGPT\u001b[0m\u001b[32;49m)\u001b[0m\u001b[32;49m found the \u001b[0m         \u001b[2m             \u001b[0m\n",
       "\u001b[2;36m                    \u001b[0m         \u001b[32;49mfollowing plants: \u001b[0m\u001b[32;49m[\u001b[0m\u001b[32;49m]\u001b[0m\u001b[32;49m, and the following animals: \u001b[0m\u001b[32;49m[\u001b[0m\u001b[32;49m'Oever-zwaluwen', \u001b[0m     \u001b[2m             \u001b[0m\n",
       "\u001b[2;36m                    \u001b[0m         \u001b[32;49m'Boeren-zwaluwen'\u001b[0m\u001b[32;49m]\u001b[0m\u001b[32;49m.\\nModel2 \u001b[0m\u001b[32;49m(\u001b[0m\u001b[32;49mHugging Face\u001b[0m\u001b[32;49m)\u001b[0m\u001b[32;49m found the following plants: \u001b[0m  \u001b[2m             \u001b[0m\n",
       "\u001b[2;36m                    \u001b[0m         \u001b[32;49m[\u001b[0m\u001b[32;49m]\u001b[0m\u001b[32;49m, and the following animals: \u001b[0m\u001b[32;49m[\u001b[0m\u001b[32;49m'zwaluwen', 'zwaluwen'\u001b[0m\u001b[32;49m]\u001b[0m\u001b[32;49m.\\n\"\u001b[0m              \u001b[2m             \u001b[0m\n"
      ]
     },
     "metadata": {},
     "output_type": "display_data"
    },
    {
     "name": "stderr",
     "output_type": "stream",
     "text": [
      " 20%|██        | 2/10 [00:23<01:29, 11.17s/it]"
     ]
    },
    {
     "name": "stdout",
     "output_type": "stream",
     "text": [
      "plants=[] animals=['Oever-zwaluwen', 'Boeren-zwaluwen'] sentence='De Oever-zwaluwen komen in Frankryk, en vertrekken bykans op denzelfden tyd als de Boeren-zwaluwen.'\n"
     ]
    },
    {
     "data": {
      "text/html": [
       "<pre style=\"white-space:pre;overflow-x:auto;line-height:normal;font-family:Menlo,'DejaVu Sans Mono',consolas,'Courier New',monospace\"><span style=\"color: #7fbfbf; text-decoration-color: #7fbfbf\">[01/08/24 11:07:27] </span><span style=\"color: #008000; text-decoration-color: #008000\">DEBUG   </span> marvin.AIModel: <span style=\"color: #000000; text-decoration-color: #000000; background-color: #ffffff\">Calling `ai_model` </span><span style=\"color: #008000; text-decoration-color: #008000; background-color: #ffffff\">'Decide_on_annotations'</span><span style=\"color: #000000; text-decoration-color: #000000; background-color: #ffffff\">: with </span>        <a href=\"file:///home/arjan_v_d/.local/lib/python3.11/site-packages/marvin/utilities/logging.py\" target=\"_blank\"><span style=\"color: #7f7f7f; text-decoration-color: #7f7f7f\">logging.py</span></a><span style=\"color: #7f7f7f; text-decoration-color: #7f7f7f\">:</span><a href=\"file:///home/arjan_v_d/.local/lib/python3.11/site-packages/marvin/utilities/logging.py#65\" target=\"_blank\"><span style=\"color: #7f7f7f; text-decoration-color: #7f7f7f\">65</span></a>\n",
       "<span style=\"color: #7fbfbf; text-decoration-color: #7fbfbf\">                    </span>         <span style=\"color: #008000; text-decoration-color: #008000; background-color: #ffffff\">\"Sentence: 'Om voor Expressen te dienen, als ik nodig oordeelde dat </span>     <span style=\"color: #7f7f7f; text-decoration-color: #7f7f7f\">             </span>\n",
       "<span style=\"color: #7fbfbf; text-decoration-color: #7fbfbf\">                    </span>         <span style=\"color: #008000; text-decoration-color: #008000; background-color: #ffffff\">zulks moest geschieden, Of zy moesten de Visscherspinkjes ook vleugels </span>  <span style=\"color: #7f7f7f; text-decoration-color: #7f7f7f\">             </span>\n",
       "<span style=\"color: #7fbfbf; text-decoration-color: #7fbfbf\">                    </span>         <span style=\"color: #008000; text-decoration-color: #008000; background-color: #ffffff\">aan naaijen.'\\nModel1 (GPT) found the following plants: [], and the </span>     <span style=\"color: #7f7f7f; text-decoration-color: #7f7f7f\">             </span>\n",
       "<span style=\"color: #7fbfbf; text-decoration-color: #7fbfbf\">                    </span>         <span style=\"color: #008000; text-decoration-color: #008000; background-color: #ffffff\">following animals: [].\\nModel2 (Hugging Face) found the following </span>       <span style=\"color: #7f7f7f; text-decoration-color: #7f7f7f\">             </span>\n",
       "<span style=\"color: #7fbfbf; text-decoration-color: #7fbfbf\">                    </span>         <span style=\"color: #008000; text-decoration-color: #008000; background-color: #ffffff\">plants: [], and the following animals: ['Visscherspinkjes'].\\n\"</span>          <span style=\"color: #7f7f7f; text-decoration-color: #7f7f7f\">             </span>\n",
       "</pre>\n"
      ],
      "text/plain": [
       "\u001b[2;36m[01/08/24 11:07:27]\u001b[0m\u001b[2;36m \u001b[0m\u001b[32mDEBUG   \u001b[0m marvin.AIModel: \u001b[39;49mCalling `ai_model` \u001b[0m\u001b[32;49m'Decide_on_annotations'\u001b[0m\u001b[39;49m: \u001b[0m\u001b[39;49mwith \u001b[0m        \u001b]8;id=492237;file:///home/arjan_v_d/.local/lib/python3.11/site-packages/marvin/utilities/logging.py\u001b\\\u001b[2mlogging.py\u001b[0m\u001b]8;;\u001b\\\u001b[2m:\u001b[0m\u001b]8;id=355098;file:///home/arjan_v_d/.local/lib/python3.11/site-packages/marvin/utilities/logging.py#65\u001b\\\u001b[2m65\u001b[0m\u001b]8;;\u001b\\\n",
       "\u001b[2;36m                    \u001b[0m         \u001b[32;49m\"Sentence: 'Om voor Expressen te dienen, als ik nodig oordeelde dat \u001b[0m     \u001b[2m             \u001b[0m\n",
       "\u001b[2;36m                    \u001b[0m         \u001b[32;49mzulks moest geschieden, Of zy moesten de Visscherspinkjes ook vleugels \u001b[0m  \u001b[2m             \u001b[0m\n",
       "\u001b[2;36m                    \u001b[0m         \u001b[32;49maan naaijen.'\\nModel1 \u001b[0m\u001b[32;49m(\u001b[0m\u001b[32;49mGPT\u001b[0m\u001b[32;49m)\u001b[0m\u001b[32;49m found the following plants: \u001b[0m\u001b[32;49m[\u001b[0m\u001b[32;49m]\u001b[0m\u001b[32;49m, and the \u001b[0m     \u001b[2m             \u001b[0m\n",
       "\u001b[2;36m                    \u001b[0m         \u001b[32;49mfollowing animals: \u001b[0m\u001b[32;49m[\u001b[0m\u001b[32;49m]\u001b[0m\u001b[32;49m.\\nModel2 \u001b[0m\u001b[32;49m(\u001b[0m\u001b[32;49mHugging Face\u001b[0m\u001b[32;49m)\u001b[0m\u001b[32;49m found the following \u001b[0m       \u001b[2m             \u001b[0m\n",
       "\u001b[2;36m                    \u001b[0m         \u001b[32;49mplants: \u001b[0m\u001b[32;49m[\u001b[0m\u001b[32;49m]\u001b[0m\u001b[32;49m, and the following animals: \u001b[0m\u001b[32;49m[\u001b[0m\u001b[32;49m'Visscherspinkjes'\u001b[0m\u001b[32;49m]\u001b[0m\u001b[32;49m.\\n\"\u001b[0m          \u001b[2m             \u001b[0m\n"
      ]
     },
     "metadata": {},
     "output_type": "display_data"
    },
    {
     "name": "stderr",
     "output_type": "stream",
     "text": [
      " 30%|███       | 3/10 [00:35<01:22, 11.82s/it]"
     ]
    },
    {
     "name": "stdout",
     "output_type": "stream",
     "text": [
      "plants=[] animals=['Visscherspinkjes'] sentence='Om voor Expressen te dienen, als ik nodig oordeelde dat zulks moest geschieden, Of zy moesten de Visscherspinkjes ook vleugels aan naaijen.'\n"
     ]
    },
    {
     "data": {
      "text/html": [
       "<pre style=\"white-space:pre;overflow-x:auto;line-height:normal;font-family:Menlo,'DejaVu Sans Mono',consolas,'Courier New',monospace\"><span style=\"color: #7fbfbf; text-decoration-color: #7fbfbf\">[01/08/24 11:07:39] </span><span style=\"color: #008000; text-decoration-color: #008000\">DEBUG   </span> marvin.AIModel: <span style=\"color: #000000; text-decoration-color: #000000; background-color: #ffffff\">Calling `ai_model` </span><span style=\"color: #008000; text-decoration-color: #008000; background-color: #ffffff\">'Decide_on_annotations'</span><span style=\"color: #000000; text-decoration-color: #000000; background-color: #ffffff\">: with </span>        <a href=\"file:///home/arjan_v_d/.local/lib/python3.11/site-packages/marvin/utilities/logging.py\" target=\"_blank\"><span style=\"color: #7f7f7f; text-decoration-color: #7f7f7f\">logging.py</span></a><span style=\"color: #7f7f7f; text-decoration-color: #7f7f7f\">:</span><a href=\"file:///home/arjan_v_d/.local/lib/python3.11/site-packages/marvin/utilities/logging.py#65\" target=\"_blank\"><span style=\"color: #7f7f7f; text-decoration-color: #7f7f7f\">65</span></a>\n",
       "<span style=\"color: #7fbfbf; text-decoration-color: #7fbfbf\">                    </span>         <span style=\"color: #008000; text-decoration-color: #008000; background-color: #ffffff\">\"Sentence: 'DEn Hemel wil getuygen, De lichte Maan met al haar gulde </span>    <span style=\"color: #7f7f7f; text-decoration-color: #7f7f7f\">             </span>\n",
       "<span style=\"color: #7fbfbf; text-decoration-color: #7fbfbf\">                    </span>         <span style=\"color: #008000; text-decoration-color: #008000; background-color: #ffffff\">sterren, Hoe wy ons herte buygen Voor 't licht dat staag ons sinnen kan </span> <span style=\"color: #7f7f7f; text-decoration-color: #7f7f7f\">             </span>\n",
       "<span style=\"color: #7fbfbf; text-decoration-color: #7fbfbf\">                    </span>         <span style=\"color: #008000; text-decoration-color: #008000; background-color: #ffffff\">verwarren, Wij roepen al, met bly geschal, de Mey is ons verschenen, Die</span> <span style=\"color: #7f7f7f; text-decoration-color: #7f7f7f\">             </span>\n",
       "<span style=\"color: #7fbfbf; text-decoration-color: #7fbfbf\">                    </span>         <span style=\"color: #008000; text-decoration-color: #008000; background-color: #ffffff\">ons uyt minne, dees groote Coninginne Komt verleenen.'\\nModel1 (GPT) </span>    <span style=\"color: #7f7f7f; text-decoration-color: #7f7f7f\">             </span>\n",
       "<span style=\"color: #7fbfbf; text-decoration-color: #7fbfbf\">                    </span>         <span style=\"color: #008000; text-decoration-color: #008000; background-color: #ffffff\">found the following plants: [], and the following animals: [].\\nModel2 </span>  <span style=\"color: #7f7f7f; text-decoration-color: #7f7f7f\">             </span>\n",
       "<span style=\"color: #7fbfbf; text-decoration-color: #7fbfbf\">                    </span>         <span style=\"color: #008000; text-decoration-color: #008000; background-color: #ffffff\">(Hugging Face) found the following plants: ['Mey'], and the following </span>   <span style=\"color: #7f7f7f; text-decoration-color: #7f7f7f\">             </span>\n",
       "<span style=\"color: #7fbfbf; text-decoration-color: #7fbfbf\">                    </span>         <span style=\"color: #008000; text-decoration-color: #008000; background-color: #ffffff\">animals: [].\\n\"</span>                                                          <span style=\"color: #7f7f7f; text-decoration-color: #7f7f7f\">             </span>\n",
       "</pre>\n"
      ],
      "text/plain": [
       "\u001b[2;36m[01/08/24 11:07:39]\u001b[0m\u001b[2;36m \u001b[0m\u001b[32mDEBUG   \u001b[0m marvin.AIModel: \u001b[39;49mCalling `ai_model` \u001b[0m\u001b[32;49m'Decide_on_annotations'\u001b[0m\u001b[39;49m: \u001b[0m\u001b[39;49mwith \u001b[0m        \u001b]8;id=25361;file:///home/arjan_v_d/.local/lib/python3.11/site-packages/marvin/utilities/logging.py\u001b\\\u001b[2mlogging.py\u001b[0m\u001b]8;;\u001b\\\u001b[2m:\u001b[0m\u001b]8;id=517489;file:///home/arjan_v_d/.local/lib/python3.11/site-packages/marvin/utilities/logging.py#65\u001b\\\u001b[2m65\u001b[0m\u001b]8;;\u001b\\\n",
       "\u001b[2;36m                    \u001b[0m         \u001b[32;49m\"Sentence: 'DEn Hemel wil getuygen, De lichte Maan met al haar gulde \u001b[0m    \u001b[2m             \u001b[0m\n",
       "\u001b[2;36m                    \u001b[0m         \u001b[32;49msterren, Hoe wy ons herte buygen Voor 't licht dat staag ons sinnen kan \u001b[0m \u001b[2m             \u001b[0m\n",
       "\u001b[2;36m                    \u001b[0m         \u001b[32;49mverwarren, Wij roepen al, met bly geschal, de Mey is ons verschenen, Die\u001b[0m \u001b[2m             \u001b[0m\n",
       "\u001b[2;36m                    \u001b[0m         \u001b[32;49mons uyt minne, dees groote Coninginne Komt verleenen.'\\nModel1 \u001b[0m\u001b[32;49m(\u001b[0m\u001b[32;49mGPT\u001b[0m\u001b[32;49m)\u001b[0m\u001b[32;49m \u001b[0m    \u001b[2m             \u001b[0m\n",
       "\u001b[2;36m                    \u001b[0m         \u001b[32;49mfound the following plants: \u001b[0m\u001b[32;49m[\u001b[0m\u001b[32;49m]\u001b[0m\u001b[32;49m, and the following animals: \u001b[0m\u001b[32;49m[\u001b[0m\u001b[32;49m]\u001b[0m\u001b[32;49m.\\nModel2 \u001b[0m  \u001b[2m             \u001b[0m\n",
       "\u001b[2;36m                    \u001b[0m         \u001b[32;49m(\u001b[0m\u001b[32;49mHugging Face\u001b[0m\u001b[32;49m)\u001b[0m\u001b[32;49m found the following plants: \u001b[0m\u001b[32;49m[\u001b[0m\u001b[32;49m'Mey'\u001b[0m\u001b[32;49m]\u001b[0m\u001b[32;49m, and the following \u001b[0m   \u001b[2m             \u001b[0m\n",
       "\u001b[2;36m                    \u001b[0m         \u001b[32;49manimals: \u001b[0m\u001b[32;49m[\u001b[0m\u001b[32;49m]\u001b[0m\u001b[32;49m.\\n\"\u001b[0m                                                          \u001b[2m             \u001b[0m\n"
      ]
     },
     "metadata": {},
     "output_type": "display_data"
    },
    {
     "name": "stderr",
     "output_type": "stream",
     "text": [
      " 40%|████      | 4/10 [00:48<01:13, 12.21s/it]"
     ]
    },
    {
     "name": "stdout",
     "output_type": "stream",
     "text": [
      "plants=['Mey'] animals=[] sentence=\"DEn Hemel wil getuygen, De lichte Maan met al haar gulde sterren, Hoe wy ons herte buygen Voor 't licht dat staag ons sinnen kan verwarren, Wij roepen al, met bly geschal, de Mey is ons verschenen, Die ons uyt minne, dees groote Coninginne Komt verleenen.\"\n"
     ]
    },
    {
     "data": {
      "text/html": [
       "<pre style=\"white-space:pre;overflow-x:auto;line-height:normal;font-family:Menlo,'DejaVu Sans Mono',consolas,'Courier New',monospace\"><span style=\"color: #7fbfbf; text-decoration-color: #7fbfbf\">[01/08/24 11:07:52] </span><span style=\"color: #008000; text-decoration-color: #008000\">DEBUG   </span> marvin.AIModel: <span style=\"color: #000000; text-decoration-color: #000000; background-color: #ffffff\">Calling `ai_model` </span><span style=\"color: #008000; text-decoration-color: #008000; background-color: #ffffff\">'Decide_on_annotations'</span><span style=\"color: #000000; text-decoration-color: #000000; background-color: #ffffff\">: with </span>        <a href=\"file:///home/arjan_v_d/.local/lib/python3.11/site-packages/marvin/utilities/logging.py\" target=\"_blank\"><span style=\"color: #7f7f7f; text-decoration-color: #7f7f7f\">logging.py</span></a><span style=\"color: #7f7f7f; text-decoration-color: #7f7f7f\">:</span><a href=\"file:///home/arjan_v_d/.local/lib/python3.11/site-packages/marvin/utilities/logging.py#65\" target=\"_blank\"><span style=\"color: #7f7f7f; text-decoration-color: #7f7f7f\">65</span></a>\n",
       "<span style=\"color: #7fbfbf; text-decoration-color: #7fbfbf\">                    </span>         <span style=\"color: #008000; text-decoration-color: #008000; background-color: #ffffff\">\"Sentence: 'DE Vader sondt zijn Soone het Woordt liberale, Daer de </span>      <span style=\"color: #7f7f7f; text-decoration-color: #7f7f7f\">             </span>\n",
       "<span style=\"color: #7fbfbf; text-decoration-color: #7fbfbf\">                    </span>         <span style=\"color: #008000; text-decoration-color: #008000; background-color: #ffffff\">kleene kinderen mede waeren in erven, Want ghelijck alle Menschen doodt </span> <span style=\"color: #7f7f7f; text-decoration-color: #7f7f7f\">             </span>\n",
       "<span style=\"color: #7fbfbf; text-decoration-color: #7fbfbf\">                    </span>         <span style=\"color: #008000; text-decoration-color: #008000; background-color: #ffffff\">waren principale, Door Adams onghehoorsaemheydt altemale, En moesten al </span> <span style=\"color: #7f7f7f; text-decoration-color: #7f7f7f\">             </span>\n",
       "<span style=\"color: #7fbfbf; text-decoration-color: #7fbfbf\">                    </span>         <span style=\"color: #008000; text-decoration-color: #008000; background-color: #ffffff\">ghelijck den doodt daerom sterven, Soo sullen nu alle Menschen het Leven</span> <span style=\"color: #7f7f7f; text-decoration-color: #7f7f7f\">             </span>\n",
       "<span style=\"color: #7fbfbf; text-decoration-color: #7fbfbf\">                    </span>         <span style=\"color: #008000; text-decoration-color: #008000; background-color: #ffffff\">verwerven, Door Christus ghehoorsaemheydt, sterven en verrijsen: Nu kan </span> <span style=\"color: #7f7f7f; text-decoration-color: #7f7f7f\">             </span>\n",
       "<span style=\"color: #7fbfbf; text-decoration-color: #7fbfbf\">                    </span>         <span style=\"color: #008000; text-decoration-color: #008000; background-color: #ffffff\">Adams sonde gheen Kinders Zielen verderven Hoe wel dat David spreeckt om</span> <span style=\"color: #7f7f7f; text-decoration-color: #7f7f7f\">             </span>\n",
       "<span style=\"color: #7fbfbf; text-decoration-color: #7fbfbf\">                    </span>         <span style=\"color: #008000; text-decoration-color: #008000; background-color: #ffffff\">den Heere te prijsen: Ick ben van sondighen Zade, der Wormen spijsen, </span>   <span style=\"color: #7f7f7f; text-decoration-color: #7f7f7f\">             </span>\n",
       "<span style=\"color: #7fbfbf; text-decoration-color: #7fbfbf\">                    </span>         <span style=\"color: #008000; text-decoration-color: #008000; background-color: #ffffff\">Gheboren, en mijn Moeder heeft my in sonden ontfaen: En of men hier uyt </span> <span style=\"color: #7f7f7f; text-decoration-color: #7f7f7f\">             </span>\n",
       "<span style=\"color: #7fbfbf; text-decoration-color: #7fbfbf\">                    </span>         <span style=\"color: #008000; text-decoration-color: #008000; background-color: #ffffff\">d'Erf-sonde wilde bewijsen, Christus heeft naer Davids doodt die al </span>     <span style=\"color: #7f7f7f; text-decoration-color: #7f7f7f\">             </span>\n",
       "<span style=\"color: #7fbfbf; text-decoration-color: #7fbfbf\">                    </span>         <span style=\"color: #008000; text-decoration-color: #008000; background-color: #ffffff\">voldaen: Maer wanneer de Kinderen goedt en quaedt konnen verstaen, Hun </span>  <span style=\"color: #7f7f7f; text-decoration-color: #7f7f7f\">             </span>\n",
       "<span style=\"color: #7fbfbf; text-decoration-color: #7fbfbf\">                    </span>         <span style=\"color: #008000; text-decoration-color: #008000; background-color: #ffffff\">eyghen sonden brenghen hun in 's doodts doleuren, Als zy het goede </span>      <span style=\"color: #7f7f7f; text-decoration-color: #7f7f7f\">             </span>\n",
       "<span style=\"color: #7fbfbf; text-decoration-color: #7fbfbf\">                    </span>         <span style=\"color: #008000; text-decoration-color: #008000; background-color: #ffffff\">laten, ende 't quaede nae-gaen: Want Godt en haet gheen Menschen tot </span>    <span style=\"color: #7f7f7f; text-decoration-color: #7f7f7f\">             </span>\n",
       "<span style=\"color: #7fbfbf; text-decoration-color: #7fbfbf\">                    </span>         <span style=\"color: #008000; text-decoration-color: #008000; background-color: #ffffff\">gheenen uren, Maer de sonde diese doen, doetse van Godt afschueren, </span>     <span style=\"color: #7f7f7f; text-decoration-color: #7f7f7f\">             </span>\n",
       "<span style=\"color: #7fbfbf; text-decoration-color: #7fbfbf\">                    </span>         <span style=\"color: #008000; text-decoration-color: #008000; background-color: #ffffff\">Nochtans is't Godts wille niet, dat daer yemandt zy verlooren Daerom </span>    <span style=\"color: #7f7f7f; text-decoration-color: #7f7f7f\">             </span>\n",
       "<span style=\"color: #7fbfbf; text-decoration-color: #7fbfbf\">                    </span>         <span style=\"color: #008000; text-decoration-color: #008000; background-color: #ffffff\">heeft Christus de doodt willen besueren, En laet noch alle menschen een </span> <span style=\"color: #7f7f7f; text-decoration-color: #7f7f7f\">             </span>\n",
       "<span style=\"color: #7fbfbf; text-decoration-color: #7fbfbf\">                    </span>         <span style=\"color: #008000; text-decoration-color: #008000; background-color: #ffffff\">goede middel hooren, Dat alle die hem ghelooven, en van nieuws zijn </span>     <span style=\"color: #7f7f7f; text-decoration-color: #7f7f7f\">             </span>\n",
       "<span style=\"color: #7fbfbf; text-decoration-color: #7fbfbf\">                    </span>         <span style=\"color: #008000; text-decoration-color: #008000; background-color: #ffffff\">herbooren, Berouw bewijsen, ghenade bidden om deughts vermeeren, 't </span>     <span style=\"color: #7f7f7f; text-decoration-color: #7f7f7f\">             </span>\n",
       "<span style=\"color: #7fbfbf; text-decoration-color: #7fbfbf\">                    </span>         <span style=\"color: #008000; text-decoration-color: #008000; background-color: #ffffff\">Gheloove is een vast betrouwen op 't Woordt des Heeren.'\\nModel1 (GPT) </span>  <span style=\"color: #7f7f7f; text-decoration-color: #7f7f7f\">             </span>\n",
       "<span style=\"color: #7fbfbf; text-decoration-color: #7fbfbf\">                    </span>         <span style=\"color: #008000; text-decoration-color: #008000; background-color: #ffffff\">found the following plants: [], and the following animals: </span>              <span style=\"color: #7f7f7f; text-decoration-color: #7f7f7f\">             </span>\n",
       "<span style=\"color: #7fbfbf; text-decoration-color: #7fbfbf\">                    </span>         <span style=\"color: #008000; text-decoration-color: #008000; background-color: #ffffff\">['Wormen'].\\nModel2 (Hugging Face) found the following plants: [], and </span>  <span style=\"color: #7f7f7f; text-decoration-color: #7f7f7f\">             </span>\n",
       "<span style=\"color: #7fbfbf; text-decoration-color: #7fbfbf\">                    </span>         <span style=\"color: #008000; text-decoration-color: #008000; background-color: #ffffff\">the following animals: [].\\n\"</span>                                            <span style=\"color: #7f7f7f; text-decoration-color: #7f7f7f\">             </span>\n",
       "</pre>\n"
      ],
      "text/plain": [
       "\u001b[2;36m[01/08/24 11:07:52]\u001b[0m\u001b[2;36m \u001b[0m\u001b[32mDEBUG   \u001b[0m marvin.AIModel: \u001b[39;49mCalling `ai_model` \u001b[0m\u001b[32;49m'Decide_on_annotations'\u001b[0m\u001b[39;49m: \u001b[0m\u001b[39;49mwith \u001b[0m        \u001b]8;id=9702;file:///home/arjan_v_d/.local/lib/python3.11/site-packages/marvin/utilities/logging.py\u001b\\\u001b[2mlogging.py\u001b[0m\u001b]8;;\u001b\\\u001b[2m:\u001b[0m\u001b]8;id=755593;file:///home/arjan_v_d/.local/lib/python3.11/site-packages/marvin/utilities/logging.py#65\u001b\\\u001b[2m65\u001b[0m\u001b]8;;\u001b\\\n",
       "\u001b[2;36m                    \u001b[0m         \u001b[32;49m\"Sentence: 'DE Vader sondt zijn Soone het Woordt liberale, Daer de \u001b[0m      \u001b[2m             \u001b[0m\n",
       "\u001b[2;36m                    \u001b[0m         \u001b[32;49mkleene kinderen mede waeren in erven, Want ghelijck alle Menschen doodt \u001b[0m \u001b[2m             \u001b[0m\n",
       "\u001b[2;36m                    \u001b[0m         \u001b[32;49mwaren principale, Door Adams onghehoorsaemheydt altemale, En moesten al \u001b[0m \u001b[2m             \u001b[0m\n",
       "\u001b[2;36m                    \u001b[0m         \u001b[32;49mghelijck den doodt daerom sterven, Soo sullen nu alle Menschen het Leven\u001b[0m \u001b[2m             \u001b[0m\n",
       "\u001b[2;36m                    \u001b[0m         \u001b[32;49mverwerven, Door Christus ghehoorsaemheydt, sterven en verrijsen: Nu kan \u001b[0m \u001b[2m             \u001b[0m\n",
       "\u001b[2;36m                    \u001b[0m         \u001b[32;49mAdams sonde gheen Kinders Zielen verderven Hoe wel dat David spreeckt om\u001b[0m \u001b[2m             \u001b[0m\n",
       "\u001b[2;36m                    \u001b[0m         \u001b[32;49mden Heere te prijsen: Ick ben van sondighen Zade, der Wormen spijsen, \u001b[0m   \u001b[2m             \u001b[0m\n",
       "\u001b[2;36m                    \u001b[0m         \u001b[32;49mGheboren, en mijn Moeder heeft my in sonden ontfaen: En of men hier uyt \u001b[0m \u001b[2m             \u001b[0m\n",
       "\u001b[2;36m                    \u001b[0m         \u001b[32;49md'Erf-sonde wilde bewijsen, Christus heeft naer Davids doodt die al \u001b[0m     \u001b[2m             \u001b[0m\n",
       "\u001b[2;36m                    \u001b[0m         \u001b[32;49mvoldaen: Maer wanneer de Kinderen goedt en quaedt konnen verstaen, Hun \u001b[0m  \u001b[2m             \u001b[0m\n",
       "\u001b[2;36m                    \u001b[0m         \u001b[32;49meyghen sonden brenghen hun in 's doodts doleuren, Als zy het goede \u001b[0m      \u001b[2m             \u001b[0m\n",
       "\u001b[2;36m                    \u001b[0m         \u001b[32;49mlaten, ende 't quaede nae-gaen: Want Godt en haet gheen Menschen tot \u001b[0m    \u001b[2m             \u001b[0m\n",
       "\u001b[2;36m                    \u001b[0m         \u001b[32;49mgheenen uren, Maer de sonde diese doen, doetse van Godt afschueren, \u001b[0m     \u001b[2m             \u001b[0m\n",
       "\u001b[2;36m                    \u001b[0m         \u001b[32;49mNochtans is't Godts wille niet, dat daer yemandt zy verlooren Daerom \u001b[0m    \u001b[2m             \u001b[0m\n",
       "\u001b[2;36m                    \u001b[0m         \u001b[32;49mheeft Christus de doodt willen besueren, En laet noch alle menschen een \u001b[0m \u001b[2m             \u001b[0m\n",
       "\u001b[2;36m                    \u001b[0m         \u001b[32;49mgoede middel hooren, Dat alle die hem ghelooven, en van nieuws zijn \u001b[0m     \u001b[2m             \u001b[0m\n",
       "\u001b[2;36m                    \u001b[0m         \u001b[32;49mherbooren, Berouw bewijsen, ghenade bidden om deughts vermeeren, 't \u001b[0m     \u001b[2m             \u001b[0m\n",
       "\u001b[2;36m                    \u001b[0m         \u001b[32;49mGheloove is een vast betrouwen op 't Woordt des Heeren.'\\nModel1 \u001b[0m\u001b[32;49m(\u001b[0m\u001b[32;49mGPT\u001b[0m\u001b[32;49m)\u001b[0m\u001b[32;49m \u001b[0m  \u001b[2m             \u001b[0m\n",
       "\u001b[2;36m                    \u001b[0m         \u001b[32;49mfound the following plants: \u001b[0m\u001b[32;49m[\u001b[0m\u001b[32;49m]\u001b[0m\u001b[32;49m, and the following animals: \u001b[0m              \u001b[2m             \u001b[0m\n",
       "\u001b[2;36m                    \u001b[0m         \u001b[32;49m[\u001b[0m\u001b[32;49m'Wormen'\u001b[0m\u001b[32;49m]\u001b[0m\u001b[32;49m.\\nModel2 \u001b[0m\u001b[32;49m(\u001b[0m\u001b[32;49mHugging Face\u001b[0m\u001b[32;49m)\u001b[0m\u001b[32;49m found the following plants: \u001b[0m\u001b[32;49m[\u001b[0m\u001b[32;49m]\u001b[0m\u001b[32;49m, and \u001b[0m  \u001b[2m             \u001b[0m\n",
       "\u001b[2;36m                    \u001b[0m         \u001b[32;49mthe following animals: \u001b[0m\u001b[32;49m[\u001b[0m\u001b[32;49m]\u001b[0m\u001b[32;49m.\\n\"\u001b[0m                                            \u001b[2m             \u001b[0m\n"
      ]
     },
     "metadata": {},
     "output_type": "display_data"
    },
    {
     "name": "stderr",
     "output_type": "stream",
     "text": [
      " 50%|█████     | 5/10 [01:24<01:43, 20.73s/it]"
     ]
    },
    {
     "name": "stdout",
     "output_type": "stream",
     "text": [
      "plants=[] animals=['Wormen'] sentence=\"'DE Vader sondt zijn Soone het Woordt liberale, Daer de kleene kinderen mede waeren in erven, Want ghelijck alle Menschen doodt waren principale, Door Adams onghehoorsaemheydt altemale, En moesten al ghelijck den doodt daerom sterven, Soo sullen nu alle Menschen het Leven verwerven, Door Christus ghehoorsaemheydt, sterven en verrijsen: Nu kan Adams sonde gheen Kinders Zielen verderven Hoe wel dat David spreeckt om den Heere te prijsen: Ick ben van sondighen Zade, der Wormen spijsen, Gheboren, en mijn Moeder heeft my in sonden ontfaen: En of men hier uyt d'Erf-sonde wilde bewijsen, Christus heeft naer Davids doodt die al voldaen: Maer wanneer de Kinderen goedt en quaedt konnen verstaen, Hun eyghen sonden brenghen hun in 's doodts doleuren, Als zy het goede laten, ende 't quaede nae-gaen: Want Godt en haet gheen Menschen tot gheenen uren, Maer de sonde diese doen, doetse van Godt afschueren, Nochtans is't Godts wille niet, dat daer yemandt zy verlooren Daerom heeft Christus de doodt willen besueren, En laet noch alle menschen een goede middel hooren, Dat alle die hem ghelooven, en van nieuws zijn herbooren, Berouw bewijsen, ghenade bidden om deughts vermeeren, 't Gheloove is een vast betrouwen op 't Woordt des Heeren.'\"\n"
     ]
    },
    {
     "data": {
      "text/html": [
       "<pre style=\"white-space:pre;overflow-x:auto;line-height:normal;font-family:Menlo,'DejaVu Sans Mono',consolas,'Courier New',monospace\"><span style=\"color: #7fbfbf; text-decoration-color: #7fbfbf\">[01/08/24 11:08:28] </span><span style=\"color: #008000; text-decoration-color: #008000\">DEBUG   </span> marvin.AIModel: <span style=\"color: #000000; text-decoration-color: #000000; background-color: #ffffff\">Calling `ai_model` </span><span style=\"color: #008000; text-decoration-color: #008000; background-color: #ffffff\">'Decide_on_annotations'</span><span style=\"color: #000000; text-decoration-color: #000000; background-color: #ffffff\">: with </span>        <a href=\"file:///home/arjan_v_d/.local/lib/python3.11/site-packages/marvin/utilities/logging.py\" target=\"_blank\"><span style=\"color: #7f7f7f; text-decoration-color: #7f7f7f\">logging.py</span></a><span style=\"color: #7f7f7f; text-decoration-color: #7f7f7f\">:</span><a href=\"file:///home/arjan_v_d/.local/lib/python3.11/site-packages/marvin/utilities/logging.py#65\" target=\"_blank\"><span style=\"color: #7f7f7f; text-decoration-color: #7f7f7f\">65</span></a>\n",
       "<span style=\"color: #7fbfbf; text-decoration-color: #7fbfbf\">                    </span>         <span style=\"color: #008000; text-decoration-color: #008000; background-color: #ffffff\">\"Sentence: 'De paarden der ruiters begonnen onrustig te worden.'\\nModel1</span> <span style=\"color: #7f7f7f; text-decoration-color: #7f7f7f\">             </span>\n",
       "<span style=\"color: #7fbfbf; text-decoration-color: #7fbfbf\">                    </span>         <span style=\"color: #008000; text-decoration-color: #008000; background-color: #ffffff\">(GPT) found the following plants: [], and the following animals: </span>        <span style=\"color: #7f7f7f; text-decoration-color: #7f7f7f\">             </span>\n",
       "<span style=\"color: #7fbfbf; text-decoration-color: #7fbfbf\">                    </span>         <span style=\"color: #008000; text-decoration-color: #008000; background-color: #ffffff\">['paarden'].\\nModel2 (Hugging Face) found the following plants: [], and </span> <span style=\"color: #7f7f7f; text-decoration-color: #7f7f7f\">             </span>\n",
       "<span style=\"color: #7fbfbf; text-decoration-color: #7fbfbf\">                    </span>         <span style=\"color: #008000; text-decoration-color: #008000; background-color: #ffffff\">the following animals: ['paarden', 'ruiters'].\\n\"</span>                        <span style=\"color: #7f7f7f; text-decoration-color: #7f7f7f\">             </span>\n",
       "</pre>\n"
      ],
      "text/plain": [
       "\u001b[2;36m[01/08/24 11:08:28]\u001b[0m\u001b[2;36m \u001b[0m\u001b[32mDEBUG   \u001b[0m marvin.AIModel: \u001b[39;49mCalling `ai_model` \u001b[0m\u001b[32;49m'Decide_on_annotations'\u001b[0m\u001b[39;49m: \u001b[0m\u001b[39;49mwith \u001b[0m        \u001b]8;id=452731;file:///home/arjan_v_d/.local/lib/python3.11/site-packages/marvin/utilities/logging.py\u001b\\\u001b[2mlogging.py\u001b[0m\u001b]8;;\u001b\\\u001b[2m:\u001b[0m\u001b]8;id=800865;file:///home/arjan_v_d/.local/lib/python3.11/site-packages/marvin/utilities/logging.py#65\u001b\\\u001b[2m65\u001b[0m\u001b]8;;\u001b\\\n",
       "\u001b[2;36m                    \u001b[0m         \u001b[32;49m\"Sentence: 'De paarden der ruiters begonnen onrustig te worden.'\\nModel1\u001b[0m \u001b[2m             \u001b[0m\n",
       "\u001b[2;36m                    \u001b[0m         \u001b[32;49m(\u001b[0m\u001b[32;49mGPT\u001b[0m\u001b[32;49m)\u001b[0m\u001b[32;49m found the following plants: \u001b[0m\u001b[32;49m[\u001b[0m\u001b[32;49m]\u001b[0m\u001b[32;49m, and the following animals: \u001b[0m        \u001b[2m             \u001b[0m\n",
       "\u001b[2;36m                    \u001b[0m         \u001b[32;49m[\u001b[0m\u001b[32;49m'paarden'\u001b[0m\u001b[32;49m]\u001b[0m\u001b[32;49m.\\nModel2 \u001b[0m\u001b[32;49m(\u001b[0m\u001b[32;49mHugging Face\u001b[0m\u001b[32;49m)\u001b[0m\u001b[32;49m found the following plants: \u001b[0m\u001b[32;49m[\u001b[0m\u001b[32;49m]\u001b[0m\u001b[32;49m, and \u001b[0m \u001b[2m             \u001b[0m\n",
       "\u001b[2;36m                    \u001b[0m         \u001b[32;49mthe following animals: \u001b[0m\u001b[32;49m[\u001b[0m\u001b[32;49m'paarden', 'ruiters'\u001b[0m\u001b[32;49m]\u001b[0m\u001b[32;49m.\\n\"\u001b[0m                        \u001b[2m             \u001b[0m\n"
      ]
     },
     "metadata": {},
     "output_type": "display_data"
    },
    {
     "name": "stderr",
     "output_type": "stream",
     "text": [
      " 60%|██████    | 6/10 [01:30<01:02, 15.63s/it]"
     ]
    },
    {
     "name": "stdout",
     "output_type": "stream",
     "text": [
      "plants=[] animals=['paarden'] sentence='De paarden der ruiters begonnen onrustig te worden.'\n"
     ]
    },
    {
     "data": {
      "text/html": [
       "<pre style=\"white-space:pre;overflow-x:auto;line-height:normal;font-family:Menlo,'DejaVu Sans Mono',consolas,'Courier New',monospace\"><span style=\"color: #7fbfbf; text-decoration-color: #7fbfbf\">[01/08/24 11:08:34] </span><span style=\"color: #008000; text-decoration-color: #008000\">DEBUG   </span> marvin.AIModel: <span style=\"color: #000000; text-decoration-color: #000000; background-color: #ffffff\">Calling `ai_model` </span><span style=\"color: #008000; text-decoration-color: #008000; background-color: #ffffff\">'Decide_on_annotations'</span><span style=\"color: #000000; text-decoration-color: #000000; background-color: #ffffff\">: with </span>        <a href=\"file:///home/arjan_v_d/.local/lib/python3.11/site-packages/marvin/utilities/logging.py\" target=\"_blank\"><span style=\"color: #7f7f7f; text-decoration-color: #7f7f7f\">logging.py</span></a><span style=\"color: #7f7f7f; text-decoration-color: #7f7f7f\">:</span><a href=\"file:///home/arjan_v_d/.local/lib/python3.11/site-packages/marvin/utilities/logging.py#65\" target=\"_blank\"><span style=\"color: #7f7f7f; text-decoration-color: #7f7f7f\">65</span></a>\n",
       "<span style=\"color: #7fbfbf; text-decoration-color: #7fbfbf\">                    </span>         <span style=\"color: #008000; text-decoration-color: #008000; background-color: #ffffff\">\"Sentence: 'Dit is een Heester-Gewas, waar van men twee zoorten </span>         <span style=\"color: #7f7f7f; text-decoration-color: #7f7f7f\">             </span>\n",
       "<span style=\"color: #7fbfbf; text-decoration-color: #7fbfbf\">                    </span>         <span style=\"color: #008000; text-decoration-color: #008000; background-color: #ffffff\">onderscheiden kan.'\\nModel1 (GPT) found the following plants: </span>           <span style=\"color: #7f7f7f; text-decoration-color: #7f7f7f\">             </span>\n",
       "<span style=\"color: #7fbfbf; text-decoration-color: #7fbfbf\">                    </span>         <span style=\"color: #008000; text-decoration-color: #008000; background-color: #ffffff\">['Heester-Gewas'], and the following animals: [].\\nModel2 (Hugging Face)</span> <span style=\"color: #7f7f7f; text-decoration-color: #7f7f7f\">             </span>\n",
       "<span style=\"color: #7fbfbf; text-decoration-color: #7fbfbf\">                    </span>         <span style=\"color: #008000; text-decoration-color: #008000; background-color: #ffffff\">found the following plants: ['Heester', 'Gewas'], and the following </span>     <span style=\"color: #7f7f7f; text-decoration-color: #7f7f7f\">             </span>\n",
       "<span style=\"color: #7fbfbf; text-decoration-color: #7fbfbf\">                    </span>         <span style=\"color: #008000; text-decoration-color: #008000; background-color: #ffffff\">animals: [].\\n\"</span>                                                          <span style=\"color: #7f7f7f; text-decoration-color: #7f7f7f\">             </span>\n",
       "</pre>\n"
      ],
      "text/plain": [
       "\u001b[2;36m[01/08/24 11:08:34]\u001b[0m\u001b[2;36m \u001b[0m\u001b[32mDEBUG   \u001b[0m marvin.AIModel: \u001b[39;49mCalling `ai_model` \u001b[0m\u001b[32;49m'Decide_on_annotations'\u001b[0m\u001b[39;49m: \u001b[0m\u001b[39;49mwith \u001b[0m        \u001b]8;id=126346;file:///home/arjan_v_d/.local/lib/python3.11/site-packages/marvin/utilities/logging.py\u001b\\\u001b[2mlogging.py\u001b[0m\u001b]8;;\u001b\\\u001b[2m:\u001b[0m\u001b]8;id=671891;file:///home/arjan_v_d/.local/lib/python3.11/site-packages/marvin/utilities/logging.py#65\u001b\\\u001b[2m65\u001b[0m\u001b]8;;\u001b\\\n",
       "\u001b[2;36m                    \u001b[0m         \u001b[32;49m\"Sentence: 'Dit is een Heester-Gewas, waar van men twee zoorten \u001b[0m         \u001b[2m             \u001b[0m\n",
       "\u001b[2;36m                    \u001b[0m         \u001b[32;49monderscheiden kan.'\\nModel1 \u001b[0m\u001b[32;49m(\u001b[0m\u001b[32;49mGPT\u001b[0m\u001b[32;49m)\u001b[0m\u001b[32;49m found the following plants: \u001b[0m           \u001b[2m             \u001b[0m\n",
       "\u001b[2;36m                    \u001b[0m         \u001b[32;49m[\u001b[0m\u001b[32;49m'Heester-Gewas'\u001b[0m\u001b[32;49m]\u001b[0m\u001b[32;49m, and the following animals: \u001b[0m\u001b[32;49m[\u001b[0m\u001b[32;49m]\u001b[0m\u001b[32;49m.\\nModel2 \u001b[0m\u001b[32;49m(\u001b[0m\u001b[32;49mHugging Face\u001b[0m\u001b[32;49m)\u001b[0m \u001b[2m             \u001b[0m\n",
       "\u001b[2;36m                    \u001b[0m         \u001b[32;49mfound the following plants: \u001b[0m\u001b[32;49m[\u001b[0m\u001b[32;49m'Heester', 'Gewas'\u001b[0m\u001b[32;49m]\u001b[0m\u001b[32;49m, and the following \u001b[0m     \u001b[2m             \u001b[0m\n",
       "\u001b[2;36m                    \u001b[0m         \u001b[32;49manimals: \u001b[0m\u001b[32;49m[\u001b[0m\u001b[32;49m]\u001b[0m\u001b[32;49m.\\n\"\u001b[0m                                                          \u001b[2m             \u001b[0m\n"
      ]
     },
     "metadata": {},
     "output_type": "display_data"
    },
    {
     "name": "stderr",
     "output_type": "stream",
     "text": [
      " 70%|███████   | 7/10 [01:38<00:39, 13.16s/it]"
     ]
    },
    {
     "name": "stdout",
     "output_type": "stream",
     "text": [
      "plants=['Heester-Gewas'] animals=[] sentence='Dit is een Heester-Gewas, waar van men twee zoorten onderscheiden kan.'\n"
     ]
    },
    {
     "data": {
      "text/html": [
       "<pre style=\"white-space:pre;overflow-x:auto;line-height:normal;font-family:Menlo,'DejaVu Sans Mono',consolas,'Courier New',monospace\"><span style=\"color: #7fbfbf; text-decoration-color: #7fbfbf\">[01/08/24 11:08:42] </span><span style=\"color: #008000; text-decoration-color: #008000\">DEBUG   </span> marvin.AIModel: <span style=\"color: #000000; text-decoration-color: #000000; background-color: #ffffff\">Calling `ai_model` </span><span style=\"color: #008000; text-decoration-color: #008000; background-color: #ffffff\">'Decide_on_annotations'</span><span style=\"color: #000000; text-decoration-color: #000000; background-color: #ffffff\">: with </span>        <a href=\"file:///home/arjan_v_d/.local/lib/python3.11/site-packages/marvin/utilities/logging.py\" target=\"_blank\"><span style=\"color: #7f7f7f; text-decoration-color: #7f7f7f\">logging.py</span></a><span style=\"color: #7f7f7f; text-decoration-color: #7f7f7f\">:</span><a href=\"file:///home/arjan_v_d/.local/lib/python3.11/site-packages/marvin/utilities/logging.py#65\" target=\"_blank\"><span style=\"color: #7f7f7f; text-decoration-color: #7f7f7f\">65</span></a>\n",
       "<span style=\"color: #7fbfbf; text-decoration-color: #7fbfbf\">                    </span>         <span style=\"color: #008000; text-decoration-color: #008000; background-color: #ffffff\">\"Sentence: 'Dus altijd verlangende en dorstende naar de druiven - met </span>   <span style=\"color: #7f7f7f; text-decoration-color: #7f7f7f\">             </span>\n",
       "<span style=\"color: #7fbfbf; text-decoration-color: #7fbfbf\">                    </span>         <span style=\"color: #008000; text-decoration-color: #008000; background-color: #ffffff\">een grond voorbeeldeloos geschikt om de geurigste druif te leveren, </span>     <span style=\"color: #7f7f7f; text-decoration-color: #7f7f7f\">             </span>\n",
       "<span style=\"color: #7fbfbf; text-decoration-color: #7fbfbf\">                    </span>         <span style=\"color: #008000; text-decoration-color: #008000; background-color: #ffffff\">indien slechts het duizendste gedeelte van de moeite en zorg daaraan </span>    <span style=\"color: #7f7f7f; text-decoration-color: #7f7f7f\">             </span>\n",
       "<span style=\"color: #7fbfbf; text-decoration-color: #7fbfbf\">                    </span>         <span style=\"color: #008000; text-decoration-color: #008000; background-color: #ffffff\">werd besteed, die voor het opbloeien van doornen worden aangewend - </span>     <span style=\"color: #7f7f7f; text-decoration-color: #7f7f7f\">             </span>\n",
       "<span style=\"color: #7fbfbf; text-decoration-color: #7fbfbf\">                    </span>         <span style=\"color: #008000; text-decoration-color: #008000; background-color: #ffffff\">leeft hij nu in een ontevreden stemming, steeds met inspanning zijn </span>     <span style=\"color: #7f7f7f; text-decoration-color: #7f7f7f\">             </span>\n",
       "<span style=\"color: #7fbfbf; text-decoration-color: #7fbfbf\">                    </span>         <span style=\"color: #008000; text-decoration-color: #008000; background-color: #ffffff\">misnoegde opwellingen tot kalmte en berusting plooiende, en slechts in </span>  <span style=\"color: #7f7f7f; text-decoration-color: #7f7f7f\">             </span>\n",
       "<span style=\"color: #7fbfbf; text-decoration-color: #7fbfbf\">                    </span>         <span style=\"color: #008000; text-decoration-color: #008000; background-color: #ffffff\">staat zich voor het gemis van het tegenwoordige te troosten met het </span>     <span style=\"color: #7f7f7f; text-decoration-color: #7f7f7f\">             </span>\n",
       "<span style=\"color: #7fbfbf; text-decoration-color: #7fbfbf\">                    </span>         <span style=\"color: #008000; text-decoration-color: #008000; background-color: #ffffff\">vooruitzicht van zwellende, saprijke vruchten..... in de verre </span>          <span style=\"color: #7f7f7f; text-decoration-color: #7f7f7f\">             </span>\n",
       "<span style=\"color: #7fbfbf; text-decoration-color: #7fbfbf\">                    </span>         <span style=\"color: #008000; text-decoration-color: #008000; background-color: #ffffff\">toekomst.'\\nModel1 (GPT) found the following plants: [], and the </span>        <span style=\"color: #7f7f7f; text-decoration-color: #7f7f7f\">             </span>\n",
       "<span style=\"color: #7fbfbf; text-decoration-color: #7fbfbf\">                    </span>         <span style=\"color: #008000; text-decoration-color: #008000; background-color: #ffffff\">following animals: [].\\nModel2 (Hugging Face) found the following </span>       <span style=\"color: #7f7f7f; text-decoration-color: #7f7f7f\">             </span>\n",
       "<span style=\"color: #7fbfbf; text-decoration-color: #7fbfbf\">                    </span>         <span style=\"color: #008000; text-decoration-color: #008000; background-color: #ffffff\">plants: ['druiven', 'druif', 'doornen', 'vruchten'], and the following </span>  <span style=\"color: #7f7f7f; text-decoration-color: #7f7f7f\">             </span>\n",
       "<span style=\"color: #7fbfbf; text-decoration-color: #7fbfbf\">                    </span>         <span style=\"color: #008000; text-decoration-color: #008000; background-color: #ffffff\">animals: [].\\n\"</span>                                                          <span style=\"color: #7f7f7f; text-decoration-color: #7f7f7f\">             </span>\n",
       "</pre>\n"
      ],
      "text/plain": [
       "\u001b[2;36m[01/08/24 11:08:42]\u001b[0m\u001b[2;36m \u001b[0m\u001b[32mDEBUG   \u001b[0m marvin.AIModel: \u001b[39;49mCalling `ai_model` \u001b[0m\u001b[32;49m'Decide_on_annotations'\u001b[0m\u001b[39;49m: \u001b[0m\u001b[39;49mwith \u001b[0m        \u001b]8;id=841966;file:///home/arjan_v_d/.local/lib/python3.11/site-packages/marvin/utilities/logging.py\u001b\\\u001b[2mlogging.py\u001b[0m\u001b]8;;\u001b\\\u001b[2m:\u001b[0m\u001b]8;id=224521;file:///home/arjan_v_d/.local/lib/python3.11/site-packages/marvin/utilities/logging.py#65\u001b\\\u001b[2m65\u001b[0m\u001b]8;;\u001b\\\n",
       "\u001b[2;36m                    \u001b[0m         \u001b[32;49m\"Sentence: 'Dus altijd verlangende en dorstende naar de druiven - met \u001b[0m   \u001b[2m             \u001b[0m\n",
       "\u001b[2;36m                    \u001b[0m         \u001b[32;49meen grond voorbeeldeloos geschikt om de geurigste druif te leveren, \u001b[0m     \u001b[2m             \u001b[0m\n",
       "\u001b[2;36m                    \u001b[0m         \u001b[32;49mindien slechts het duizendste gedeelte van de moeite en zorg daaraan \u001b[0m    \u001b[2m             \u001b[0m\n",
       "\u001b[2;36m                    \u001b[0m         \u001b[32;49mwerd besteed, die voor het opbloeien van doornen worden aangewend - \u001b[0m     \u001b[2m             \u001b[0m\n",
       "\u001b[2;36m                    \u001b[0m         \u001b[32;49mleeft hij nu in een ontevreden stemming, steeds met inspanning zijn \u001b[0m     \u001b[2m             \u001b[0m\n",
       "\u001b[2;36m                    \u001b[0m         \u001b[32;49mmisnoegde opwellingen tot kalmte en berusting plooiende, en slechts in \u001b[0m  \u001b[2m             \u001b[0m\n",
       "\u001b[2;36m                    \u001b[0m         \u001b[32;49mstaat zich voor het gemis van het tegenwoordige te troosten met het \u001b[0m     \u001b[2m             \u001b[0m\n",
       "\u001b[2;36m                    \u001b[0m         \u001b[32;49mvooruitzicht van zwellende, saprijke vruchten..... in de verre \u001b[0m          \u001b[2m             \u001b[0m\n",
       "\u001b[2;36m                    \u001b[0m         \u001b[32;49mtoekomst.'\\nModel1 \u001b[0m\u001b[32;49m(\u001b[0m\u001b[32;49mGPT\u001b[0m\u001b[32;49m)\u001b[0m\u001b[32;49m found the following plants: \u001b[0m\u001b[32;49m[\u001b[0m\u001b[32;49m]\u001b[0m\u001b[32;49m, and the \u001b[0m        \u001b[2m             \u001b[0m\n",
       "\u001b[2;36m                    \u001b[0m         \u001b[32;49mfollowing animals: \u001b[0m\u001b[32;49m[\u001b[0m\u001b[32;49m]\u001b[0m\u001b[32;49m.\\nModel2 \u001b[0m\u001b[32;49m(\u001b[0m\u001b[32;49mHugging Face\u001b[0m\u001b[32;49m)\u001b[0m\u001b[32;49m found the following \u001b[0m       \u001b[2m             \u001b[0m\n",
       "\u001b[2;36m                    \u001b[0m         \u001b[32;49mplants: \u001b[0m\u001b[32;49m[\u001b[0m\u001b[32;49m'druiven', 'druif', 'doornen', 'vruchten'\u001b[0m\u001b[32;49m]\u001b[0m\u001b[32;49m, and the following \u001b[0m  \u001b[2m             \u001b[0m\n",
       "\u001b[2;36m                    \u001b[0m         \u001b[32;49manimals: \u001b[0m\u001b[32;49m[\u001b[0m\u001b[32;49m]\u001b[0m\u001b[32;49m.\\n\"\u001b[0m                                                          \u001b[2m             \u001b[0m\n"
      ]
     },
     "metadata": {},
     "output_type": "display_data"
    },
    {
     "name": "stderr",
     "output_type": "stream",
     "text": [
      " 80%|████████  | 8/10 [02:08<00:37, 18.62s/it]"
     ]
    },
    {
     "name": "stdout",
     "output_type": "stream",
     "text": [
      "plants=['druiven', 'druif', 'doornen', 'vruchten'] animals=[] sentence='Dus altijd verlangende en dorstende naar de druiven - met een grond voorbeeldeloos geschikt om de geurigste druif te leveren, indien slechts het duizendste gedeelte van de moeite en zorg daaraan werd besteed, die voor het opbloeien van doornen worden aangewend - leeft hij nu in een ontevreden stemming, steeds met inspanning zijn misnoegde opwellingen tot kalmte en berusting plooiende, en slechts in staat zich voor het gemis van het tegenwoordige te troosten met het vooruitzicht van zwellende, saprijke vruchten..... in de verre toekomst.'\n"
     ]
    },
    {
     "data": {
      "text/html": [
       "<pre style=\"white-space:pre;overflow-x:auto;line-height:normal;font-family:Menlo,'DejaVu Sans Mono',consolas,'Courier New',monospace\"><span style=\"color: #7fbfbf; text-decoration-color: #7fbfbf\">[01/08/24 11:09:12] </span><span style=\"color: #008000; text-decoration-color: #008000\">DEBUG   </span> marvin.AIModel: <span style=\"color: #000000; text-decoration-color: #000000; background-color: #ffffff\">Calling `ai_model` </span><span style=\"color: #008000; text-decoration-color: #008000; background-color: #ffffff\">'Decide_on_annotations'</span><span style=\"color: #000000; text-decoration-color: #000000; background-color: #ffffff\">: with </span>        <a href=\"file:///home/arjan_v_d/.local/lib/python3.11/site-packages/marvin/utilities/logging.py\" target=\"_blank\"><span style=\"color: #7f7f7f; text-decoration-color: #7f7f7f\">logging.py</span></a><span style=\"color: #7f7f7f; text-decoration-color: #7f7f7f\">:</span><a href=\"file:///home/arjan_v_d/.local/lib/python3.11/site-packages/marvin/utilities/logging.py#65\" target=\"_blank\"><span style=\"color: #7f7f7f; text-decoration-color: #7f7f7f\">65</span></a>\n",
       "<span style=\"color: #7fbfbf; text-decoration-color: #7fbfbf\">                    </span>         <span style=\"color: #008000; text-decoration-color: #008000; background-color: #ffffff\">\"Sentence: 'Het werd eindelyk avond, de herders dreven hunne kudde naer </span> <span style=\"color: #7f7f7f; text-decoration-color: #7f7f7f\">             </span>\n",
       "<span style=\"color: #7fbfbf; text-decoration-color: #7fbfbf\">                    </span>         <span style=\"color: #008000; text-decoration-color: #008000; background-color: #ffffff\">huis en bliezen hun avondlied.'\\nModel1 (GPT) found the following </span>       <span style=\"color: #7f7f7f; text-decoration-color: #7f7f7f\">             </span>\n",
       "<span style=\"color: #7fbfbf; text-decoration-color: #7fbfbf\">                    </span>         <span style=\"color: #008000; text-decoration-color: #008000; background-color: #ffffff\">plants: [], and the following animals: ['kudde'].\\nModel2 (Hugging Face)</span> <span style=\"color: #7f7f7f; text-decoration-color: #7f7f7f\">             </span>\n",
       "<span style=\"color: #7fbfbf; text-decoration-color: #7fbfbf\">                    </span>         <span style=\"color: #008000; text-decoration-color: #008000; background-color: #ffffff\">found the following plants: [], and the following animals: [].\\n\"</span>        <span style=\"color: #7f7f7f; text-decoration-color: #7f7f7f\">             </span>\n",
       "</pre>\n"
      ],
      "text/plain": [
       "\u001b[2;36m[01/08/24 11:09:12]\u001b[0m\u001b[2;36m \u001b[0m\u001b[32mDEBUG   \u001b[0m marvin.AIModel: \u001b[39;49mCalling `ai_model` \u001b[0m\u001b[32;49m'Decide_on_annotations'\u001b[0m\u001b[39;49m: \u001b[0m\u001b[39;49mwith \u001b[0m        \u001b]8;id=502227;file:///home/arjan_v_d/.local/lib/python3.11/site-packages/marvin/utilities/logging.py\u001b\\\u001b[2mlogging.py\u001b[0m\u001b]8;;\u001b\\\u001b[2m:\u001b[0m\u001b]8;id=447312;file:///home/arjan_v_d/.local/lib/python3.11/site-packages/marvin/utilities/logging.py#65\u001b\\\u001b[2m65\u001b[0m\u001b]8;;\u001b\\\n",
       "\u001b[2;36m                    \u001b[0m         \u001b[32;49m\"Sentence: 'Het werd eindelyk avond, de herders dreven hunne kudde naer \u001b[0m \u001b[2m             \u001b[0m\n",
       "\u001b[2;36m                    \u001b[0m         \u001b[32;49mhuis en bliezen hun avondlied.'\\nModel1 \u001b[0m\u001b[32;49m(\u001b[0m\u001b[32;49mGPT\u001b[0m\u001b[32;49m)\u001b[0m\u001b[32;49m found the following \u001b[0m       \u001b[2m             \u001b[0m\n",
       "\u001b[2;36m                    \u001b[0m         \u001b[32;49mplants: \u001b[0m\u001b[32;49m[\u001b[0m\u001b[32;49m]\u001b[0m\u001b[32;49m, and the following animals: \u001b[0m\u001b[32;49m[\u001b[0m\u001b[32;49m'kudde'\u001b[0m\u001b[32;49m]\u001b[0m\u001b[32;49m.\\nModel2 \u001b[0m\u001b[32;49m(\u001b[0m\u001b[32;49mHugging Face\u001b[0m\u001b[32;49m)\u001b[0m \u001b[2m             \u001b[0m\n",
       "\u001b[2;36m                    \u001b[0m         \u001b[32;49mfound the following plants: \u001b[0m\u001b[32;49m[\u001b[0m\u001b[32;49m]\u001b[0m\u001b[32;49m, and the following animals: \u001b[0m\u001b[32;49m[\u001b[0m\u001b[32;49m]\u001b[0m\u001b[32;49m.\\n\"\u001b[0m        \u001b[2m             \u001b[0m\n"
      ]
     },
     "metadata": {},
     "output_type": "display_data"
    },
    {
     "name": "stderr",
     "output_type": "stream",
     "text": [
      " 90%|█████████ | 9/10 [02:13<00:14, 14.36s/it]"
     ]
    },
    {
     "name": "stdout",
     "output_type": "stream",
     "text": [
      "plants=[] animals=['kudde'] sentence='Het werd eindelyk avond, de herders dreven hunne kudde naer huis en bliezen hun avondlied.'\n"
     ]
    },
    {
     "data": {
      "text/html": [
       "<pre style=\"white-space:pre;overflow-x:auto;line-height:normal;font-family:Menlo,'DejaVu Sans Mono',consolas,'Courier New',monospace\"><span style=\"color: #7fbfbf; text-decoration-color: #7fbfbf\">[01/08/24 11:09:17] </span><span style=\"color: #008000; text-decoration-color: #008000\">DEBUG   </span> marvin.AIModel: <span style=\"color: #000000; text-decoration-color: #000000; background-color: #ffffff\">Calling `ai_model` </span><span style=\"color: #008000; text-decoration-color: #008000; background-color: #ffffff\">'Decide_on_annotations'</span><span style=\"color: #000000; text-decoration-color: #000000; background-color: #ffffff\">: with </span>        <a href=\"file:///home/arjan_v_d/.local/lib/python3.11/site-packages/marvin/utilities/logging.py\" target=\"_blank\"><span style=\"color: #7f7f7f; text-decoration-color: #7f7f7f\">logging.py</span></a><span style=\"color: #7f7f7f; text-decoration-color: #7f7f7f\">:</span><a href=\"file:///home/arjan_v_d/.local/lib/python3.11/site-packages/marvin/utilities/logging.py#65\" target=\"_blank\"><span style=\"color: #7f7f7f; text-decoration-color: #7f7f7f\">65</span></a>\n",
       "<span style=\"color: #7fbfbf; text-decoration-color: #7fbfbf\">                    </span>         <span style=\"color: #008000; text-decoration-color: #008000; background-color: #ffffff\">\"Sentence: 'Men moet de Stonden doen komen, zo zy opgehouden zyn; Wat de</span> <span style=\"color: #7f7f7f; text-decoration-color: #7f7f7f\">             </span>\n",
       "<span style=\"color: #7fbfbf; text-decoration-color: #7fbfbf\">                    </span>         <span style=\"color: #008000; text-decoration-color: #008000; background-color: #ffffff\">Genees-kunst aangaat, men zal het zelfde, als in de verstopping der Milt</span> <span style=\"color: #7f7f7f; text-decoration-color: #7f7f7f\">             </span>\n",
       "<span style=\"color: #7fbfbf; text-decoration-color: #7fbfbf\">                    </span>         <span style=\"color: #008000; text-decoration-color: #008000; background-color: #ffffff\">aanmerken.'\\nModel1 (GPT) found the following plants: [], and the </span>       <span style=\"color: #7f7f7f; text-decoration-color: #7f7f7f\">             </span>\n",
       "<span style=\"color: #7fbfbf; text-decoration-color: #7fbfbf\">                    </span>         <span style=\"color: #008000; text-decoration-color: #008000; background-color: #ffffff\">following animals: [].\\nModel2 (Hugging Face) found the following </span>       <span style=\"color: #7f7f7f; text-decoration-color: #7f7f7f\">             </span>\n",
       "<span style=\"color: #7fbfbf; text-decoration-color: #7fbfbf\">                    </span>         <span style=\"color: #008000; text-decoration-color: #008000; background-color: #ffffff\">plants: [], and the following animals: ['Milt'].\\n\"</span>                      <span style=\"color: #7f7f7f; text-decoration-color: #7f7f7f\">             </span>\n",
       "</pre>\n"
      ],
      "text/plain": [
       "\u001b[2;36m[01/08/24 11:09:17]\u001b[0m\u001b[2;36m \u001b[0m\u001b[32mDEBUG   \u001b[0m marvin.AIModel: \u001b[39;49mCalling `ai_model` \u001b[0m\u001b[32;49m'Decide_on_annotations'\u001b[0m\u001b[39;49m: \u001b[0m\u001b[39;49mwith \u001b[0m        \u001b]8;id=43462;file:///home/arjan_v_d/.local/lib/python3.11/site-packages/marvin/utilities/logging.py\u001b\\\u001b[2mlogging.py\u001b[0m\u001b]8;;\u001b\\\u001b[2m:\u001b[0m\u001b]8;id=679979;file:///home/arjan_v_d/.local/lib/python3.11/site-packages/marvin/utilities/logging.py#65\u001b\\\u001b[2m65\u001b[0m\u001b]8;;\u001b\\\n",
       "\u001b[2;36m                    \u001b[0m         \u001b[32;49m\"Sentence: 'Men moet de Stonden doen komen, zo zy opgehouden zyn; Wat de\u001b[0m \u001b[2m             \u001b[0m\n",
       "\u001b[2;36m                    \u001b[0m         \u001b[32;49mGenees-kunst aangaat, men zal het zelfde, als in de verstopping der Milt\u001b[0m \u001b[2m             \u001b[0m\n",
       "\u001b[2;36m                    \u001b[0m         \u001b[32;49maanmerken.'\\nModel1 \u001b[0m\u001b[32;49m(\u001b[0m\u001b[32;49mGPT\u001b[0m\u001b[32;49m)\u001b[0m\u001b[32;49m found the following plants: \u001b[0m\u001b[32;49m[\u001b[0m\u001b[32;49m]\u001b[0m\u001b[32;49m, and the \u001b[0m       \u001b[2m             \u001b[0m\n",
       "\u001b[2;36m                    \u001b[0m         \u001b[32;49mfollowing animals: \u001b[0m\u001b[32;49m[\u001b[0m\u001b[32;49m]\u001b[0m\u001b[32;49m.\\nModel2 \u001b[0m\u001b[32;49m(\u001b[0m\u001b[32;49mHugging Face\u001b[0m\u001b[32;49m)\u001b[0m\u001b[32;49m found the following \u001b[0m       \u001b[2m             \u001b[0m\n",
       "\u001b[2;36m                    \u001b[0m         \u001b[32;49mplants: \u001b[0m\u001b[32;49m[\u001b[0m\u001b[32;49m]\u001b[0m\u001b[32;49m, and the following animals: \u001b[0m\u001b[32;49m[\u001b[0m\u001b[32;49m'Milt'\u001b[0m\u001b[32;49m]\u001b[0m\u001b[32;49m.\\n\"\u001b[0m                      \u001b[2m             \u001b[0m\n"
      ]
     },
     "metadata": {},
     "output_type": "display_data"
    },
    {
     "name": "stderr",
     "output_type": "stream",
     "text": [
      "100%|██████████| 10/10 [02:22<00:00, 14.26s/it]"
     ]
    },
    {
     "name": "stdout",
     "output_type": "stream",
     "text": [
      "plants=[] animals=[] sentence='Men moet de Stonden doen komen, zo zy opgehouden zyn; Wat de Genees-kunst aangaat, men zal het zelfde, als in de verstopping der Milt aanmerken.'\n"
     ]
    },
    {
     "name": "stderr",
     "output_type": "stream",
     "text": [
      "\n"
     ]
    }
   ],
   "source": [
    "import tqdm\n",
    "@ai_model\n",
    "class Decide_on_annotations(BaseModel):\n",
    "    \"\"\" \n",
    "    Two ai-models have been instructed to find all plants and animals in a sentence.\n",
    "    In this case they disagreed, look at both options and give the right annotation.\n",
    "    You are not obligtated to choose one of them, you can also choose a new one.\n",
    "    \"\"\"\n",
    "    plants: list[str] = Field(description=\"The plants present in the sentence\")\n",
    "    animals: list[str] = Field(description= \"The animals present in the sentence\")\n",
    "    sentence: str = Field(description= \"the sentence itself\")\n",
    "\n",
    "\n",
    "\n",
    "a = prompts[0:10]\n",
    "\n",
    "for e in tqdm.tqdm(a):\n",
    "    b = Decide_on_annotations(e)\n",
    "    print(b)\n",
    "\n",
    "\n",
    "\n"
   ]
  },
  {
   "cell_type": "code",
   "execution_count": null,
   "metadata": {},
   "outputs": [],
   "source": []
  },
  {
   "cell_type": "code",
   "execution_count": 22,
   "metadata": {},
   "outputs": [],
   "source": [
    "import re\n",
    "from typing import List, Tuple, Union\n",
    "from pydantic import BaseModel\n",
    "\n",
    "class Annotations(BaseModel):\n",
    "    sentence: str\n",
    "    label: List[Tuple[Union[int, None], Union[int, None], Union[str, None]]] = []\n",
    "    warning: bool = True\n",
    "    additional_information: str = \"\"\n",
    "\n",
    "    @classmethod\n",
    "    def create_from_plants_and_animals(cls, data: Plants_and_animals):\n",
    "        instance = cls(sentence=data.sentence)\n",
    "        labels = []\n",
    "        warning = False\n",
    "        additional_info = \"\"\n",
    "\n",
    "        for entity_type, entity_list in [(\"plant\", data.plants), (\"animal\", data.animals)]:\n",
    "            for plant_or_animal in entity_list:\n",
    "                occurrences = [m.start() for m in re.finditer(plant_or_animal, data.sentence)]\n",
    "                \n",
    "                if len(occurrences) == 1:\n",
    "                    start = occurrences[0]\n",
    "                    end = start + len(plant_or_animal)\n",
    "                    labels.append((start, end, entity_type))\n",
    "                elif len(occurrences) > 1:\n",
    "                    warning = True\n",
    "                    additional_info = \"multiple occurrences\"\n",
    "                else:\n",
    "                    warning = True\n",
    "                    additional_info = \"entity could not be found\"\n",
    "\n",
    "        if warning:\n",
    "            labels = [(None, None, None)]\n",
    "            additional_info = \"warning\"\n",
    "\n",
    "        instance.label = labels\n",
    "        instance.warning = warning\n",
    "        instance.additional_information = additional_info\n",
    "\n",
    "        return instance\n"
   ]
  },
  {
   "cell_type": "code",
   "execution_count": 11,
   "metadata": {},
   "outputs": [
    {
     "data": {
      "text/html": [
       "<pre style=\"white-space:pre;overflow-x:auto;line-height:normal;font-family:Menlo,'DejaVu Sans Mono',consolas,'Courier New',monospace\"><span style=\"color: #7fbfbf; text-decoration-color: #7fbfbf\">[01/05/24 15:02:25] </span><span style=\"color: #008000; text-decoration-color: #008000\">DEBUG   </span> marvin.AIModel: <span style=\"color: #000000; text-decoration-color: #000000; background-color: #ffffff\">Calling `ai_model` </span><span style=\"color: #008000; text-decoration-color: #008000; background-color: #ffffff\">'Plants_and_animals'</span><span style=\"color: #000000; text-decoration-color: #000000; background-color: #ffffff\">: with </span><span style=\"color: #008000; text-decoration-color: #008000; background-color: #ffffff\">'Of men </span>   <a href=\"file:///home/arjan_v_d/.local/lib/python3.11/site-packages/marvin/utilities/logging.py\" target=\"_blank\"><span style=\"color: #7f7f7f; text-decoration-color: #7f7f7f\">logging.py</span></a><span style=\"color: #7f7f7f; text-decoration-color: #7f7f7f\">:</span><a href=\"file:///home/arjan_v_d/.local/lib/python3.11/site-packages/marvin/utilities/logging.py#65\" target=\"_blank\"><span style=\"color: #7f7f7f; text-decoration-color: #7f7f7f\">65</span></a>\n",
       "<span style=\"color: #7fbfbf; text-decoration-color: #7fbfbf\">                    </span>         <span style=\"color: #008000; text-decoration-color: #008000; background-color: #ffffff\">neemt drie handvollen van dat kruid, eer dat het gebloeid heeft, twee </span>   <span style=\"color: #7f7f7f; text-decoration-color: #7f7f7f\">             </span>\n",
       "<span style=\"color: #7fbfbf; text-decoration-color: #7fbfbf\">                    </span>         <span style=\"color: #008000; text-decoration-color: #008000; background-color: #ffffff\">handen vol Kamillen, of boter bloemen.'</span>                                  <span style=\"color: #7f7f7f; text-decoration-color: #7f7f7f\">             </span>\n",
       "</pre>\n"
      ],
      "text/plain": [
       "\u001b[2;36m[01/05/24 15:02:25]\u001b[0m\u001b[2;36m \u001b[0m\u001b[32mDEBUG   \u001b[0m marvin.AIModel: \u001b[39;49mCalling `ai_model` \u001b[0m\u001b[32;49m'Plants_and_animals'\u001b[0m\u001b[39;49m: \u001b[0m\u001b[39;49mwith \u001b[0m\u001b[32;49m'Of men \u001b[0m   \u001b]8;id=401132;file:///home/arjan_v_d/.local/lib/python3.11/site-packages/marvin/utilities/logging.py\u001b\\\u001b[2mlogging.py\u001b[0m\u001b]8;;\u001b\\\u001b[2m:\u001b[0m\u001b]8;id=301112;file:///home/arjan_v_d/.local/lib/python3.11/site-packages/marvin/utilities/logging.py#65\u001b\\\u001b[2m65\u001b[0m\u001b]8;;\u001b\\\n",
       "\u001b[2;36m                    \u001b[0m         \u001b[32;49mneemt drie handvollen van dat kruid, eer dat het gebloeid heeft, twee \u001b[0m   \u001b[2m             \u001b[0m\n",
       "\u001b[2;36m                    \u001b[0m         \u001b[32;49mhanden vol Kamillen, of boter bloemen.'\u001b[0m                                  \u001b[2m             \u001b[0m\n"
      ]
     },
     "metadata": {},
     "output_type": "display_data"
    }
   ],
   "source": [
    "plants_and_animals_data = Plants_and_animals('Of men neemt drie handvollen van dat kruid, eer dat het gebloeid heeft, twee handen vol Kamillen, of boter bloemen.'\n",
    ")"
   ]
  },
  {
   "cell_type": "code",
   "execution_count": null,
   "metadata": {},
   "outputs": [],
   "source": [
    "plants_and_animals_data = Plants_and_animals(\n",
    "    plants=['kruid', 'Kamillen', 'boter bloemen'],\n",
    "    animals=[],\n",
    "    sentence='Of men neemt drie handvollen van dat kruid, eer dat het gebloeid heeft, twe handen vol Kamillen, of boter bloemen.'\n",
    ")\n",
    "\n",
    "annotations = Annotations.create_from_plants_and_animals(plants_and_animals_data)\n",
    "print(annotations.dict())"
   ]
  },
  {
   "cell_type": "code",
   "execution_count": null,
   "metadata": {},
   "outputs": [],
   "source": [
    "from pydantic import BaseModel\n",
    "from typing import List, Tuple\n",
    "\n",
    "class EntitySpan(BaseModel):\n",
    "    entity: str\n",
    "    span: Tuple[int, int]\n",
    "\n",
    "class SentenceAnalysis(BaseModel):\n",
    "    plants: List[EntitySpan]\n",
    "    animals: List[EntitySpan]\n",
    "    warning: bool = False\n",
    "    problem: str = \"\"\n",
    "\n",
    "# Function to find all entity spans\n",
    "def find_all_entity_spans(sentence: str, entity: str) -> List[Tuple[int, int]]:\n",
    "    spans = []\n",
    "    start = 0\n",
    "    while start < len(sentence):\n",
    "        start = sentence.find(entity, start)\n",
    "        if start == -1:\n",
    "            break\n",
    "        end = start + len(entity)\n",
    "        spans.append((start, end))\n",
    "        start += len(entity)  # move past this entity\n",
    "    return spans\n",
    "\n",
    "sentence = \"In de boom zit een aap, om preciezer te zijn: een baviaan\"\n",
    "Plants_and_animals(sentence)\n",
    "\n",
    "\n",
    "\n",
    "# Validate and process response with Pydantic\n",
    "try:\n",
    "    analysis_result = SentenceAnalysis(plants=[], animals=[])\n",
    "\n",
    "    for plant in api_response.get('plants', []):\n",
    "        spans = find_all_entity_spans(sentence, plant)\n",
    "        if len(spans) > 1:\n",
    "            analysis_result.warning = True\n",
    "            analysis_result.problem += f\"Multiple occurrences of '{plant}'. \"\n",
    "        analysis_result.plants.extend([EntitySpan(entity=plant, span=span) for span in spans])\n",
    "\n",
    "    for animal in api_response.get('animals', []):\n",
    "        spans = find_all_entity_spans(sentence, animal)\n",
    "        if len(spans) > 1:\n",
    "            analysis_result.warning = True\n",
    "            analysis_result.problem += f\"Multiple occurrences of '{animal}'. \"\n",
    "        analysis_result.animals.extend([EntitySpan(entity=animal, span=span) for span in spans])\n",
    "\n",
    "except KeyError:\n",
    "    analysis_result.warning = True\n",
    "    analysis_result.problem = \"Unclear input.\"\n",
    "\n"
   ]
  }
 ],
 "metadata": {
  "kernelspec": {
   "display_name": ".venv",
   "language": "python",
   "name": "python3"
  },
  "language_info": {
   "codemirror_mode": {
    "name": "ipython",
    "version": 3
   },
   "file_extension": ".py",
   "mimetype": "text/x-python",
   "name": "python",
   "nbconvert_exporter": "python",
   "pygments_lexer": "ipython3",
   "version": "3.11.7"
  }
 },
 "nbformat": 4,
 "nbformat_minor": 2
}
