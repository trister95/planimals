{
 "cells": [
  {
   "cell_type": "markdown",
   "metadata": {
    "id": "8eNUNUYj-w0d"
   },
   "source": [
    "## Clone, install, import"
   ]
  },
  {
   "cell_type": "code",
   "execution_count": null,
   "metadata": {},
   "outputs": [],
   "source": [
    "%pip install -r ../requirements.txt -q\n",
    "import ucto\n",
    "ucto.installdata()\n",
    "%run ../src/utils.py\n",
    "%run ../src/preprocessing.py\n"
   ]
  },
  {
   "cell_type": "markdown",
   "metadata": {
    "id": "JxMAqL-Z-_2G",
    "tags": []
   },
   "source": [
    "## Download"
   ]
  },
  {
   "cell_type": "code",
   "execution_count": 1,
   "metadata": {
    "id": "I9ThYhJj-6Ja"
   },
   "outputs": [
    {
     "name": "stderr",
     "output_type": "stream",
     "text": [
      "/home/avandalfse/.local/lib/python3.8/site-packages/tqdm/auto.py:21: TqdmWarning: IProgress not found. Please update jupyter and ipywidgets. See https://ipywidgets.readthedocs.io/en/stable/user_install.html\n",
      "  from .autonotebook import tqdm as notebook_tqdm\n",
      "None of PyTorch, TensorFlow >= 2.0, or Flax have been found. Models won't be available and only tokenizers, configuration and file/data utilities can be used.\n"
     ]
    },
    {
     "name": "stdout",
     "output_type": "stream",
     "text": [
      "Directory planimals/data/dbnl_xml already exists\n"
     ]
    }
   ],
   "source": [
    "%run ../src/utils.py\n",
    "\n",
    "create_if_absent(\"planimals/data/dbnl_xml\")\n",
    "download_and_unzip(url = \"https://www.dbnl.org/letterkunde/pd/xml_pd.zip\", output_dir = \"../data/dbnl_xml\")"
   ]
  },
  {
   "cell_type": "markdown",
   "metadata": {
    "id": "-UAHKveR_KtO"
   },
   "source": [
    "## XML to txt"
   ]
  },
  {
   "cell_type": "code",
   "execution_count": 2,
   "metadata": {
    "id": "98TjeKar_GKR"
   },
   "outputs": [],
   "source": [
    "%run ../src/preprocessing.py\n",
    "\n",
    "html_to_decimal_dict = make_html_entity_dict()\n",
    "addition =  additional_declaration_str(html_to_decimal_dict, '.dtd\"')\n",
    "add_declaration_to_xml('../data/dbnl_xml', '<!DOCTYPE', '.dtd\"', addition)"
   ]
  },
  {
   "cell_type": "code",
   "execution_count": 3,
   "metadata": {
    "id": "HcWUpuin_Oqn",
    "tags": []
   },
   "outputs": [
    {
     "name": "stdout",
     "output_type": "stream",
     "text": [
      "Directory ../data/dbnl_txt created\n",
      "file teen002bijz01 could not be parsed: Entity 'lsquo' not defined, line 494, column 375 (teen002bijz01_01.xml, line 494)\n",
      "file hugo001piad01 could not be parsed: Entity 'lsquo' not defined, line 2622, column 11 (hugo001piad01_01.xml, line 2622)\n",
      "file vaen001quin01 could not be parsed: Entity 'Sigma' not defined, line 310, column 75 (vaen001quin01_01.xml, line 310)\n",
      "file vry_001anat01 could not be parsed: Start tag expected, '<' not found, line 2, column 1 (vry_001anat01_01.xml, line 2)\n",
      "file _gid001183901 could not be parsed: Entity 'lsquo' not defined, line 334, column 59 (_gid001183901_01.xml, line 334)\n",
      "file luyk001jezu01 could not be parsed: Entity 'dagger' not defined, line 576, column 79 (luyk001jezu01_01.xml, line 576)\n",
      "file aa__001biog02 could not be parsed: Entity 'lsquo' not defined, line 129, column 48 (aa__001biog02_01.xml, line 129)\n",
      "file herl001besc01 could not be parsed: Entity 'lsquo' not defined, line 1398, column 8 (herl001besc01_01.xml, line 1398)\n",
      "file lede003drie01 could not be parsed: Entity 'lsquo' not defined, line 331, column 11 (lede003drie01_01.xml, line 331)\n",
      "file elge001zinn01 could not be parsed: Entity 'lsquo' not defined, line 7026, column 490 (elge001zinn01_01.xml, line 7026)\n",
      "file ferm001nieu01 could not be parsed: Entity 'lsquo' not defined, line 3532, column 86 (ferm001nieu01_01.xml, line 3532)\n",
      "file leuv001amor01 could not be parsed: Entity 'phi' not defined, line 4204, column 60 (leuv001amor01_01.xml, line 4204)\n",
      "file aa__001biog11 could not be parsed: Entity 'rarr' not defined, line 127, column 42 (aa__001biog11_01.xml, line 127)\n",
      "file carp002verh01 could not be parsed: Entity 'lsquo' not defined, line 1810, column 11 (carp002verh01_01.xml, line 1810)\n"
     ]
    }
   ],
   "source": [
    "create_if_absent(\"../data/dbnl_txt\")\n",
    "dbnl_to_txt(\"../data/dbnl_xml\", \"../data/dbnl_txt\")"
   ]
  },
  {
   "cell_type": "markdown",
   "metadata": {},
   "source": [
    "## Txt to folia"
   ]
  },
  {
   "cell_type": "code",
   "execution_count": 7,
   "metadata": {
    "id": "E3OwXGIp_hDZ"
   },
   "outputs": [
    {
     "name": "stdout",
     "output_type": "stream",
     "text": [
      "Directory ../data/dbnl_folia already exists\n"
     ]
    },
    {
     "name": "stderr",
     "output_type": "stream",
     "text": [
      "Looping through text files: 100%|██████████| 3442/3442 [00:00<00:00, 200174.63it/s]\n"
     ]
    }
   ],
   "source": [
    "create_if_absent(\"../data/dbnl_folia\")\n",
    "txt_to_folia(\"../data/dbnl_txt\", \"../data/dbnl_folia\")"
   ]
  },
  {
   "cell_type": "markdown",
   "metadata": {},
   "source": [
    "## Folia to csv"
   ]
  },
  {
   "cell_type": "code",
   "execution_count": null,
   "metadata": {},
   "outputs": [
    {
     "name": "stdout",
     "output_type": "stream",
     "text": [
      "Directory ../data/dbnl_sentences already exists\n"
     ]
    },
    {
     "name": "stderr",
     "output_type": "stream",
     "text": [
      "making df:   0%|          | 0/3442 [00:00<?, ?it/s]WARNING!!! Document uses a newer version of FoLiA than this library! (2.5.3 vs 2.5.1). Any possible subsequent failures in parsing or processing may probably be attributed to this. Upgrade foliapy to remedy this.\n",
      "making df:   0%|          | 1/3442 [00:00<53:27,  1.07it/s]WARNING!!! Document uses a newer version of FoLiA than this library! (2.5.3 vs 2.5.1). Any possible subsequent failures in parsing or processing may probably be attributed to this. Upgrade foliapy to remedy this.\n",
      "making df:   0%|          | 2/3442 [00:12<6:52:20,  7.19s/it]WARNING!!! Document uses a newer version of FoLiA than this library! (2.5.3 vs 2.5.1). Any possible subsequent failures in parsing or processing may probably be attributed to this. Upgrade foliapy to remedy this.\n",
      "making df:   0%|          | 3/3442 [00:39<15:32:32, 16.27s/it]"
     ]
    },
    {
     "name": "stdout",
     "output_type": "stream",
     "text": [
      "Error processing file ../data/dbnl_folia/_die003185501.folia.xml: No features in text.\n"
     ]
    },
    {
     "name": "stderr",
     "output_type": "stream",
     "text": [
      "WARNING!!! Document uses a newer version of FoLiA than this library! (2.5.3 vs 2.5.1). Any possible subsequent failures in parsing or processing may probably be attributed to this. Upgrade foliapy to remedy this.\n",
      "making df:   0%|          | 4/3442 [00:54<15:11:27, 15.91s/it]WARNING!!! Document uses a newer version of FoLiA than this library! (2.5.3 vs 2.5.1). Any possible subsequent failures in parsing or processing may probably be attributed to this. Upgrade foliapy to remedy this.\n",
      "making df:   0%|          | 5/3442 [01:00<11:42:48, 12.27s/it]WARNING!!! Document uses a newer version of FoLiA than this library! (2.5.3 vs 2.5.1). Any possible subsequent failures in parsing or processing may probably be attributed to this. Upgrade foliapy to remedy this.\n",
      "making df:   0%|          | 6/3442 [01:01<7:50:09,  8.21s/it] WARNING!!! Document uses a newer version of FoLiA than this library! (2.5.3 vs 2.5.1). Any possible subsequent failures in parsing or processing may probably be attributed to this. Upgrade foliapy to remedy this.\n",
      "making df:   0%|          | 7/3442 [04:25<69:02:34, 72.36s/it]"
     ]
    },
    {
     "name": "stdout",
     "output_type": "stream",
     "text": [
      "Error processing file ../data/dbnl_folia/_gid001186901.folia.xml: No features in text.\n"
     ]
    },
    {
     "name": "stderr",
     "output_type": "stream",
     "text": [
      "WARNING!!! Document uses a newer version of FoLiA than this library! (2.5.3 vs 2.5.1). Any possible subsequent failures in parsing or processing may probably be attributed to this. Upgrade foliapy to remedy this.\n",
      "making df:   0%|          | 8/3442 [06:44<89:11:42, 93.51s/it]"
     ]
    },
    {
     "name": "stdout",
     "output_type": "stream",
     "text": [
      "Error processing file ../data/dbnl_folia/_vad003186501.folia.xml: No features in text.\n"
     ]
    },
    {
     "name": "stderr",
     "output_type": "stream",
     "text": [
      "WARNING!!! Document uses a newer version of FoLiA than this library! (2.5.3 vs 2.5.1). Any possible subsequent failures in parsing or processing may probably be attributed to this. Upgrade foliapy to remedy this.\n",
      "making df:   0%|          | 9/3442 [06:46<61:48:19, 64.81s/it]WARNING!!! Document uses a newer version of FoLiA than this library! (2.5.3 vs 2.5.1). Any possible subsequent failures in parsing or processing may probably be attributed to this. Upgrade foliapy to remedy this.\n",
      "making df:   0%|          | 10/3442 [07:09<49:38:06, 52.06s/it]WARNING!!! Document uses a newer version of FoLiA than this library! (2.5.3 vs 2.5.1). Any possible subsequent failures in parsing or processing may probably be attributed to this. Upgrade foliapy to remedy this.\n",
      "making df:   0%|          | 11/3442 [07:13<35:32:32, 37.29s/it]WARNING!!! Document uses a newer version of FoLiA than this library! (2.5.3 vs 2.5.1). Any possible subsequent failures in parsing or processing may probably be attributed to this. Upgrade foliapy to remedy this.\n",
      "making df:   0%|          | 12/3442 [07:14<24:55:45, 26.16s/it]WARNING!!! Document uses a newer version of FoLiA than this library! (2.5.3 vs 2.5.1). Any possible subsequent failures in parsing or processing may probably be attributed to this. Upgrade foliapy to remedy this.\n",
      "making df:   0%|          | 13/3442 [07:14<17:27:08, 18.32s/it]WARNING!!! Document uses a newer version of FoLiA than this library! (2.5.3 vs 2.5.1). Any possible subsequent failures in parsing or processing may probably be attributed to this. Upgrade foliapy to remedy this.\n",
      "making df:   0%|          | 14/3442 [07:53<23:34:11, 24.75s/it]WARNING!!! Document uses a newer version of FoLiA than this library! (2.5.3 vs 2.5.1). Any possible subsequent failures in parsing or processing may probably be attributed to this. Upgrade foliapy to remedy this.\n",
      "making df:   0%|          | 15/3442 [08:01<18:36:54, 19.55s/it]WARNING!!! Document uses a newer version of FoLiA than this library! (2.5.3 vs 2.5.1). Any possible subsequent failures in parsing or processing may probably be attributed to this. Upgrade foliapy to remedy this.\n",
      "making df:   0%|          | 16/3442 [08:01<13:06:59, 13.78s/it]WARNING!!! Document uses a newer version of FoLiA than this library! (2.5.3 vs 2.5.1). Any possible subsequent failures in parsing or processing may probably be attributed to this. Upgrade foliapy to remedy this.\n",
      "making df:   0%|          | 17/3442 [09:07<28:03:37, 29.49s/it]WARNING!!! Document uses a newer version of FoLiA than this library! (2.5.3 vs 2.5.1). Any possible subsequent failures in parsing or processing may probably be attributed to this. Upgrade foliapy to remedy this.\n",
      "making df:   1%|          | 18/3442 [09:56<33:32:12, 35.26s/it]WARNING!!! Document uses a newer version of FoLiA than this library! (2.5.3 vs 2.5.1). Any possible subsequent failures in parsing or processing may probably be attributed to this. Upgrade foliapy to remedy this.\n",
      "making df:   1%|          | 19/3442 [10:02<25:16:17, 26.58s/it]WARNING!!! Document uses a newer version of FoLiA than this library! (2.5.3 vs 2.5.1). Any possible subsequent failures in parsing or processing may probably be attributed to this. Upgrade foliapy to remedy this.\n",
      "making df:   1%|          | 20/3442 [10:03<17:46:17, 18.70s/it]WARNING!!! Document uses a newer version of FoLiA than this library! (2.5.3 vs 2.5.1). Any possible subsequent failures in parsing or processing may probably be attributed to this. Upgrade foliapy to remedy this.\n",
      "making df:   1%|          | 21/3442 [10:22<17:48:45, 18.74s/it]"
     ]
    },
    {
     "name": "stdout",
     "output_type": "stream",
     "text": [
      "Error processing file ../data/dbnl_folia/juni002bata01.folia.xml: No features in text.\n"
     ]
    },
    {
     "name": "stderr",
     "output_type": "stream",
     "text": [
      "WARNING!!! Document uses a newer version of FoLiA than this library! (2.5.3 vs 2.5.1). Any possible subsequent failures in parsing or processing may probably be attributed to this. Upgrade foliapy to remedy this.\n",
      "making df:   1%|          | 22/3442 [10:31<15:16:52, 16.09s/it]WARNING!!! Document uses a newer version of FoLiA than this library! (2.5.3 vs 2.5.1). Any possible subsequent failures in parsing or processing may probably be attributed to this. Upgrade foliapy to remedy this.\n",
      "making df:   1%|          | 23/3442 [10:48<15:26:52, 16.27s/it]WARNING!!! Document uses a newer version of FoLiA than this library! (2.5.3 vs 2.5.1). Any possible subsequent failures in parsing or processing may probably be attributed to this. Upgrade foliapy to remedy this.\n",
      "making df:   1%|          | 24/3442 [11:16<18:40:05, 19.66s/it]WARNING!!! Document uses a newer version of FoLiA than this library! (2.5.3 vs 2.5.1). Any possible subsequent failures in parsing or processing may probably be attributed to this. Upgrade foliapy to remedy this.\n",
      "making df:   1%|          | 25/3442 [11:36<18:54:26, 19.92s/it]WARNING!!! Document uses a newer version of FoLiA than this library! (2.5.3 vs 2.5.1). Any possible subsequent failures in parsing or processing may probably be attributed to this. Upgrade foliapy to remedy this.\n",
      "making df:   1%|          | 26/3442 [11:50<17:12:00, 18.13s/it]WARNING!!! Document uses a newer version of FoLiA than this library! (2.5.3 vs 2.5.1). Any possible subsequent failures in parsing or processing may probably be attributed to this. Upgrade foliapy to remedy this.\n",
      "making df:   1%|          | 27/3442 [12:07<16:41:57, 17.60s/it]WARNING!!! Document uses a newer version of FoLiA than this library! (2.5.3 vs 2.5.1). Any possible subsequent failures in parsing or processing may probably be attributed to this. Upgrade foliapy to remedy this.\n",
      "making df:   1%|          | 28/3442 [12:13<13:28:17, 14.21s/it]WARNING!!! Document uses a newer version of FoLiA than this library! (2.5.3 vs 2.5.1). Any possible subsequent failures in parsing or processing may probably be attributed to this. Upgrade foliapy to remedy this.\n",
      "making df:   1%|          | 29/3442 [12:20<11:30:08, 12.13s/it]WARNING!!! Document uses a newer version of FoLiA than this library! (2.5.3 vs 2.5.1). Any possible subsequent failures in parsing or processing may probably be attributed to this. Upgrade foliapy to remedy this.\n",
      "making df:   1%|          | 30/3442 [12:32<11:23:51, 12.03s/it]WARNING!!! Document uses a newer version of FoLiA than this library! (2.5.3 vs 2.5.1). Any possible subsequent failures in parsing or processing may probably be attributed to this. Upgrade foliapy to remedy this.\n",
      "making df:   1%|          | 31/3442 [13:19<21:27:42, 22.65s/it]WARNING!!! Document uses a newer version of FoLiA than this library! (2.5.3 vs 2.5.1). Any possible subsequent failures in parsing or processing may probably be attributed to this. Upgrade foliapy to remedy this.\n",
      "making df:   1%|          | 32/3442 [13:27<17:12:29, 18.17s/it]WARNING!!! Document uses a newer version of FoLiA than this library! (2.5.3 vs 2.5.1). Any possible subsequent failures in parsing or processing may probably be attributed to this. Upgrade foliapy to remedy this.\n",
      "making df:   1%|          | 33/3442 [13:36<14:38:23, 15.46s/it]WARNING!!! Document uses a newer version of FoLiA than this library! (2.5.3 vs 2.5.1). Any possible subsequent failures in parsing or processing may probably be attributed to this. Upgrade foliapy to remedy this.\n",
      "making df:   1%|          | 34/3442 [14:28<24:55:45, 26.33s/it]WARNING!!! Document uses a newer version of FoLiA than this library! (2.5.3 vs 2.5.1). Any possible subsequent failures in parsing or processing may probably be attributed to this. Upgrade foliapy to remedy this.\n",
      "making df:   1%|          | 35/3442 [15:33<35:49:52, 37.86s/it]WARNING!!! Document uses a newer version of FoLiA than this library! (2.5.3 vs 2.5.1). Any possible subsequent failures in parsing or processing may probably be attributed to this. Upgrade foliapy to remedy this.\n",
      "making df:   1%|          | 36/3442 [15:38<26:37:39, 28.14s/it]WARNING!!! Document uses a newer version of FoLiA than this library! (2.5.3 vs 2.5.1). Any possible subsequent failures in parsing or processing may probably be attributed to this. Upgrade foliapy to remedy this.\n",
      "making df:   1%|          | 37/3442 [15:57<23:57:22, 25.33s/it]WARNING!!! Document uses a newer version of FoLiA than this library! (2.5.3 vs 2.5.1). Any possible subsequent failures in parsing or processing may probably be attributed to this. Upgrade foliapy to remedy this.\n",
      "making df:   1%|          | 38/3442 [15:57<16:47:42, 17.76s/it]WARNING!!! Document uses a newer version of FoLiA than this library! (2.5.3 vs 2.5.1). Any possible subsequent failures in parsing or processing may probably be attributed to this. Upgrade foliapy to remedy this.\n",
      "making df:   1%|          | 39/3442 [16:07<14:32:03, 15.38s/it]WARNING!!! Document uses a newer version of FoLiA than this library! (2.5.3 vs 2.5.1). Any possible subsequent failures in parsing or processing may probably be attributed to this. Upgrade foliapy to remedy this.\n",
      "making df:   1%|          | 40/3442 [16:07<10:17:26, 10.89s/it]WARNING!!! Document uses a newer version of FoLiA than this library! (2.5.3 vs 2.5.1). Any possible subsequent failures in parsing or processing may probably be attributed to this. Upgrade foliapy to remedy this.\n",
      "making df:   1%|          | 41/3442 [16:09<7:41:21,  8.14s/it] WARNING!!! Document uses a newer version of FoLiA than this library! (2.5.3 vs 2.5.1). Any possible subsequent failures in parsing or processing may probably be attributed to this. Upgrade foliapy to remedy this.\n",
      "making df:   1%|          | 42/3442 [16:09<5:26:52,  5.77s/it]WARNING!!! Document uses a newer version of FoLiA than this library! (2.5.3 vs 2.5.1). Any possible subsequent failures in parsing or processing may probably be attributed to this. Upgrade foliapy to remedy this.\n",
      "making df:   1%|          | 43/3442 [16:14<5:02:22,  5.34s/it]WARNING!!! Document uses a newer version of FoLiA than this library! (2.5.3 vs 2.5.1). Any possible subsequent failures in parsing or processing may probably be attributed to this. Upgrade foliapy to remedy this.\n",
      "making df:   1%|▏         | 44/3442 [16:14<3:41:52,  3.92s/it]WARNING!!! Document uses a newer version of FoLiA than this library! (2.5.3 vs 2.5.1). Any possible subsequent failures in parsing or processing may probably be attributed to this. Upgrade foliapy to remedy this.\n",
      "making df:   1%|▏         | 45/3442 [16:14<2:40:21,  2.83s/it]WARNING!!! Document uses a newer version of FoLiA than this library! (2.5.3 vs 2.5.1). Any possible subsequent failures in parsing or processing may probably be attributed to this. Upgrade foliapy to remedy this.\n",
      "making df:   1%|▏         | 46/3442 [16:20<3:25:27,  3.63s/it]WARNING!!! Document uses a newer version of FoLiA than this library! (2.5.3 vs 2.5.1). Any possible subsequent failures in parsing or processing may probably be attributed to this. Upgrade foliapy to remedy this.\n",
      "making df:   1%|▏         | 47/3442 [16:45<9:24:12,  9.97s/it]WARNING!!! Document uses a newer version of FoLiA than this library! (2.5.3 vs 2.5.1). Any possible subsequent failures in parsing or processing may probably be attributed to this. Upgrade foliapy to remedy this.\n",
      "making df:   1%|▏         | 48/3442 [16:49<7:51:56,  8.34s/it]WARNING!!! Document uses a newer version of FoLiA than this library! (2.5.3 vs 2.5.1). Any possible subsequent failures in parsing or processing may probably be attributed to this. Upgrade foliapy to remedy this.\n",
      "making df:   1%|▏         | 49/3442 [16:53<6:36:33,  7.01s/it]WARNING!!! Document uses a newer version of FoLiA than this library! (2.5.3 vs 2.5.1). Any possible subsequent failures in parsing or processing may probably be attributed to this. Upgrade foliapy to remedy this.\n",
      "making df:   1%|▏         | 50/3442 [16:58<5:55:28,  6.29s/it]WARNING!!! Document uses a newer version of FoLiA than this library! (2.5.3 vs 2.5.1). Any possible subsequent failures in parsing or processing may probably be attributed to this. Upgrade foliapy to remedy this.\n",
      "making df:   1%|▏         | 51/3442 [17:00<4:49:01,  5.11s/it]WARNING!!! Document uses a newer version of FoLiA than this library! (2.5.3 vs 2.5.1). Any possible subsequent failures in parsing or processing may probably be attributed to this. Upgrade foliapy to remedy this.\n",
      "making df:   2%|▏         | 52/3442 [17:00<3:25:01,  3.63s/it]WARNING!!! Document uses a newer version of FoLiA than this library! (2.5.3 vs 2.5.1). Any possible subsequent failures in parsing or processing may probably be attributed to this. Upgrade foliapy to remedy this.\n",
      "making df:   2%|▏         | 53/3442 [19:42<48:09:39, 51.16s/it]WARNING!!! Document uses a newer version of FoLiA than this library! (2.5.3 vs 2.5.1). Any possible subsequent failures in parsing or processing may probably be attributed to this. Upgrade foliapy to remedy this.\n",
      "making df:   2%|▏         | 54/3442 [19:43<33:45:36, 35.87s/it]WARNING!!! Document uses a newer version of FoLiA than this library! (2.5.3 vs 2.5.1). Any possible subsequent failures in parsing or processing may probably be attributed to this. Upgrade foliapy to remedy this.\n",
      "making df:   2%|▏         | 55/3442 [19:43<23:47:37, 25.29s/it]WARNING!!! Document uses a newer version of FoLiA than this library! (2.5.3 vs 2.5.1). Any possible subsequent failures in parsing or processing may probably be attributed to this. Upgrade foliapy to remedy this.\n",
      "making df:   2%|▏         | 56/3442 [20:30<29:52:40, 31.77s/it]WARNING!!! Document uses a newer version of FoLiA than this library! (2.5.3 vs 2.5.1). Any possible subsequent failures in parsing or processing may probably be attributed to this. Upgrade foliapy to remedy this.\n",
      "making df:   2%|▏         | 57/3442 [21:10<32:13:42, 34.28s/it]WARNING!!! Document uses a newer version of FoLiA than this library! (2.5.3 vs 2.5.1). Any possible subsequent failures in parsing or processing may probably be attributed to this. Upgrade foliapy to remedy this.\n",
      "making df:   2%|▏         | 58/3442 [22:19<41:49:50, 44.50s/it]WARNING!!! Document uses a newer version of FoLiA than this library! (2.5.3 vs 2.5.1). Any possible subsequent failures in parsing or processing may probably be attributed to this. Upgrade foliapy to remedy this.\n",
      "making df:   2%|▏         | 59/3442 [23:24<47:45:52, 50.83s/it]WARNING!!! Document uses a newer version of FoLiA than this library! (2.5.3 vs 2.5.1). Any possible subsequent failures in parsing or processing may probably be attributed to this. Upgrade foliapy to remedy this.\n",
      "making df:   2%|▏         | 60/3442 [23:35<36:32:19, 38.89s/it]WARNING!!! Document uses a newer version of FoLiA than this library! (2.5.3 vs 2.5.1). Any possible subsequent failures in parsing or processing may probably be attributed to this. Upgrade foliapy to remedy this.\n",
      "making df:   2%|▏         | 61/3442 [23:35<25:39:37, 27.32s/it]WARNING!!! Document uses a newer version of FoLiA than this library! (2.5.3 vs 2.5.1). Any possible subsequent failures in parsing or processing may probably be attributed to this. Upgrade foliapy to remedy this.\n",
      "making df:   2%|▏         | 62/3442 [24:12<28:07:36, 29.96s/it]WARNING!!! Document uses a newer version of FoLiA than this library! (2.5.3 vs 2.5.1). Any possible subsequent failures in parsing or processing may probably be attributed to this. Upgrade foliapy to remedy this.\n",
      "making df:   2%|▏         | 63/3442 [24:13<19:57:15, 21.26s/it]WARNING!!! Document uses a newer version of FoLiA than this library! (2.5.3 vs 2.5.1). Any possible subsequent failures in parsing or processing may probably be attributed to this. Upgrade foliapy to remedy this.\n",
      "making df:   2%|▏         | 64/3442 [24:13<14:01:22, 14.94s/it]WARNING!!! Document uses a newer version of FoLiA than this library! (2.5.3 vs 2.5.1). Any possible subsequent failures in parsing or processing may probably be attributed to this. Upgrade foliapy to remedy this.\n",
      "making df:   2%|▏         | 65/3442 [24:13<9:54:16, 10.56s/it] WARNING!!! Document uses a newer version of FoLiA than this library! (2.5.3 vs 2.5.1). Any possible subsequent failures in parsing or processing may probably be attributed to this. Upgrade foliapy to remedy this.\n",
      "making df:   2%|▏         | 66/3442 [24:17<8:09:33,  8.70s/it]WARNING!!! Document uses a newer version of FoLiA than this library! (2.5.3 vs 2.5.1). Any possible subsequent failures in parsing or processing may probably be attributed to this. Upgrade foliapy to remedy this.\n"
     ]
    }
   ],
   "source": [
    "create_if_absent(\"../data/dbnl_sentences\")\n",
    "folia_files = select_all_files(\"../data/dbnl_folia\", \"folia.xml\")\n",
    "\n",
    "# Directory and checkpoint file setup\n",
    "output_folder = '../data/dbnl_sentences'\n",
    "checkpoint_file = 'processed_files.txt'\n",
    "# Load processed files from checkpoint\n",
    "processed_files = set(load_checkpoint(checkpoint_file))\n",
    "\n",
    "for index, f in enumerate(tqdm.tqdm(folia_files, desc=\"making df\"), start=1):\n",
    "    if f not in processed_files:\n",
    "        df = folia_to_df(f)  # Assuming folia_to_df returns a DataFrame\n",
    "\n",
    "        # Save the dataframe\n",
    "        filename = f\"df_{index}.csv\"  # or use .pkl for pickle format\n",
    "        filepath = os.path.join(output_folder, filename)\n",
    "        df.to_csv(filepath, index=False)  # Use df.to_pickle(filepath) for pickle format\n",
    "\n",
    "        # Update processed files list and checkpoint\n",
    "        processed_files.add(f)\n",
    "        save_checkpoint(processed_files, checkpoint_file)\n"
   ]
  },
  {
   "cell_type": "markdown",
   "metadata": {},
   "source": [
    "## Diagnostics"
   ]
  },
  {
   "cell_type": "code",
   "execution_count": 5,
   "metadata": {},
   "outputs": [
    {
     "name": "stdout",
     "output_type": "stream",
     "text": [
      "Number of files in '../data/dbnl_xml': 3458\n",
      "Number of files in '../data/dbnl_txt': 3442\n",
      "Number of files in '../data/dbnl_folia': 3451\n",
      "Number of files in '../data/dbnl_sentences': 3444\n"
     ]
    }
   ],
   "source": [
    "folder_paths = ['../data/dbnl_xml', '../data/dbnl_txt', '../data/dbnl_folia', '../data/dbnl_sentences']\n",
    "\n",
    "for p in folder_paths:\n",
    "    num_files = count_files_in_folder(p)\n",
    "    print(f\"Number of files in '{p}': {num_files}\")"
   ]
  },
  {
   "cell_type": "code",
   "execution_count": 14,
   "metadata": {},
   "outputs": [
    {
     "name": "stdout",
     "output_type": "stream",
     "text": [
      "Error processing file df_712.csv: No columns to parse from file\n",
      "Error processing file df_108.csv: No columns to parse from file\n",
      "Error processing file df_2710.csv: No columns to parse from file\n",
      "Error processing file df_3169.csv: No columns to parse from file\n",
      "Error processing file df_633.csv: No columns to parse from file\n",
      "Error processing file df_2783.csv: No columns to parse from file\n",
      "Error processing file df_2053.csv: No columns to parse from file\n",
      "Error processing file df_240.csv: No columns to parse from file\n",
      "Error processing file df_1426.csv: No columns to parse from file\n",
      "Error processing file df_1809.csv: No columns to parse from file\n",
      "Error processing file df_181.csv: No columns to parse from file\n",
      "Error processing file df_253.csv: No columns to parse from file\n",
      "Error processing file df_1542.csv: No columns to parse from file\n",
      "Error processing file df_2904.csv: No columns to parse from file\n",
      "Error processing file df_1982.csv: No columns to parse from file\n",
      "Error processing file df_1187.csv: No columns to parse from file\n",
      "Error processing file df_1765.csv: No columns to parse from file\n",
      "Error processing file df_2415.csv: No columns to parse from file\n",
      "Error processing file df_1500.csv: No columns to parse from file\n",
      "Error processing file df_194.csv: No columns to parse from file\n",
      "Error processing file df_72.csv: No columns to parse from file\n",
      "Error processing file df_3288.csv: No columns to parse from file\n",
      "Error processing file df_556.csv: No columns to parse from file\n",
      "Error processing file df_2973.csv: No columns to parse from file\n",
      "Error processing file df_914.csv: No columns to parse from file\n",
      "Error processing file df_1910.csv: No columns to parse from file\n",
      "Error processing file df_2685.csv: No columns to parse from file\n",
      "Error processing file df_2368.csv: No columns to parse from file\n",
      "Error processing file df_2591.csv: No columns to parse from file\n",
      "Error processing file df_1852.csv: No columns to parse from file\n",
      "Error processing file df_8.csv: No columns to parse from file\n",
      "Error processing file df_1582.csv: No columns to parse from file\n",
      "Error processing file df_517.csv: No columns to parse from file\n",
      "Error processing file df_1790.csv: No columns to parse from file\n",
      "Error processing file df_2314.csv: No columns to parse from file\n",
      "Error processing file df_2426.csv: No columns to parse from file\n",
      "Error processing file df_2517.csv: No columns to parse from file\n",
      "Error processing file df_530.csv: No columns to parse from file\n",
      "Error processing file df_3250.csv: No columns to parse from file\n",
      "Error processing file df_507.csv: No columns to parse from file\n",
      "Error processing file df_913.csv: No columns to parse from file\n",
      "Error processing file df_3383.csv: No columns to parse from file\n",
      "Error processing file df_3207.csv: No columns to parse from file\n",
      "Error processing file df_2640.csv: No columns to parse from file\n",
      "Error processing file df_565.csv: No columns to parse from file\n",
      "Error processing file df_2341.csv: No columns to parse from file\n",
      "Error processing file df_3292.csv: No columns to parse from file\n",
      "Error processing file df_1272.csv: No columns to parse from file\n",
      "Error processing file df_155.csv: No columns to parse from file\n",
      "Error processing file df_3.csv: No columns to parse from file\n",
      "Error processing file df_1153.csv: No columns to parse from file\n",
      "Error processing file df_244.csv: No columns to parse from file\n",
      "Error processing file df_2704.csv: No columns to parse from file\n",
      "Error processing file df_2879.csv: No columns to parse from file\n",
      "Error processing file df_2643.csv: No columns to parse from file\n",
      "Error processing file df_889.csv: No columns to parse from file\n",
      "Error processing file df_2134.csv: No columns to parse from file\n",
      "Error processing file df_1834.csv: No columns to parse from file\n",
      "Error processing file df_3350.csv: No columns to parse from file\n",
      "Error processing file df_1193.csv: No columns to parse from file\n",
      "Error processing file df_312.csv: No columns to parse from file\n",
      "Error processing file df_1111.csv: No columns to parse from file\n",
      "Error processing file df_1094.csv: No columns to parse from file\n",
      "Error processing file df_3191.csv: No columns to parse from file\n",
      "Error processing file df_474.csv: No columns to parse from file\n",
      "Error processing file df_816.csv: No columns to parse from file\n",
      "Error processing file df_1347.csv: No columns to parse from file\n",
      "Error processing file df_7.csv: No columns to parse from file\n",
      "Error processing file df_1761.csv: No columns to parse from file\n",
      "Error processing file df_1777.csv: No columns to parse from file\n",
      "Error processing file df_1648.csv: No columns to parse from file\n",
      "Error processing file df_2888.csv: No columns to parse from file\n",
      "Error processing file df_3280.csv: No columns to parse from file\n",
      "Error processing file df_2882.csv: No columns to parse from file\n",
      "Error processing file df_1026.csv: No columns to parse from file\n",
      "Error processing file df_1151.csv: No columns to parse from file\n",
      "Error processing file df_3377.csv: No columns to parse from file\n",
      "Error processing file df_2610.csv: No columns to parse from file\n",
      "Error processing file df_1379.csv: No columns to parse from file\n",
      "Error processing file df_3008.csv: No columns to parse from file\n",
      "Error processing file df_796.csv: No columns to parse from file\n",
      "Error processing file df_21.csv: No columns to parse from file\n",
      "Error processing file df_3260.csv: No columns to parse from file\n",
      "Number of CSV files with zero rows: 99\n",
      "Number of CSV files with 1-100 rows: 746\n"
     ]
    },
    {
     "data": {
      "image/png": "[encoded data removed]",
      "text/plain": [
       "<Figure size 1000x600 with 1 Axes>"
      ]
     },
     "metadata": {},
     "output_type": "display_data"
    }
   ],
   "source": [
    "import matplotlib.pyplot as plt\n",
    "\n",
    "# Replace with the actual path to your folder containing CSV files\n",
    "folder_path = '../data/dbnl_sentences/'\n",
    "csv_files = [file for file in list_extension_files(folder_path, \"csv\")]\n",
    "\n",
    "zero_row_files = 0\n",
    "one_to_hundred_row_files = 0\n",
    "\n",
    "# List to store the number of rows in each CSV file\n",
    "rows_count = []\n",
    "\n",
    "# Read each CSV file and count the number of rows\n",
    "for file in csv_files:\n",
    "    try:\n",
    "        file_path = os.path.join(folder_path, file)\n",
    "        df = pd.read_csv(file_path)\n",
    "        num_rows = len(df)\n",
    "        rows_count.append(num_rows)\n",
    "\n",
    "        # Update counters\n",
    "        if num_rows == 0:\n",
    "            zero_row_files += 1\n",
    "        elif 1 <= num_rows <= 100:\n",
    "            one_to_hundred_row_files += 1\n",
    "\n",
    "    except Exception as e:\n",
    "        print(f\"Error processing file {file}: {e}\")\n",
    "        rows_count.append(0)\n",
    "        zero_row_files += 1\n",
    "\n",
    "# Create a histogram of the number of rows\n",
    "plt.figure(figsize=(10, 6))\n",
    "plt.hist(rows_count, bins=100, edgecolor='black')\n",
    "plt.title('Histogram of Rows in CSV Files')\n",
    "plt.xlabel('Number of Rows')\n",
    "plt.ylabel('Frequency')\n",
    "\n",
    "# Adding a text box for the zero row and 1-100 row info\n",
    "info_text = f\"CSV files with 0 rows: {zero_row_files}\\n\" \\\n",
    "            f\"CSV files with 1-100 rows: {one_to_hundred_row_files}\"\n",
    "plt.gca().text(0.95, 0.95, info_text, transform=plt.gca().transAxes, fontsize=12,\n",
    "               verticalalignment='top', horizontalalignment='right',\n",
    "               bbox=dict(boxstyle=\"round,pad=0.5\", facecolor='white', alpha=0.5))\n",
    "\n",
    "plt.show()"
   ]
  },
  {
   "cell_type": "markdown",
   "metadata": {},
   "source": [
    "## Clean csv's and put together"
   ]
  },
  {
   "cell_type": "markdown",
   "metadata": {},
   "source": [
    "Cleaning means:\n",
    "* check if a row in the csv is a sentence (else: discard);\n",
    "* check if the sentence is Dutch (else: discard);\n",
    "* remove duplicates.\n",
    "\n",
    "This is done per chunk to make it less computationally heavy."
   ]
  },
  {
   "cell_type": "code",
   "execution_count": 43,
   "metadata": {},
   "outputs": [
    {
     "name": "stdout",
     "output_type": "stream",
     "text": [
      "Directory ../data/chunks already exists\n",
      "DataFrame from ../data/dbnl_sentences/df_1302.csv is empty or has no columns.\n",
      "No data in file: ../data/dbnl_sentences/df_712.csv\n",
      "No data in file: ../data/dbnl_sentences/df_108.csv\n",
      "No data in file: ../data/dbnl_sentences/df_2710.csv\n",
      "No data in file: ../data/dbnl_sentences/df_3169.csv\n",
      "No data in file: ../data/dbnl_sentences/df_633.csv\n",
      "No data in file: ../data/dbnl_sentences/df_2783.csv\n",
      "No data in file: ../data/dbnl_sentences/df_2053.csv\n",
      "No data in file: ../data/dbnl_sentences/df_240.csv\n",
      "DataFrame from ../data/dbnl_sentences/df_851.csv is empty or has no columns.\n",
      "No data in file: ../data/dbnl_sentences/df_1426.csv\n",
      "No data in file: ../data/dbnl_sentences/df_1809.csv\n",
      "No data in file: ../data/dbnl_sentences/df_181.csv\n",
      "No data in file: ../data/dbnl_sentences/df_253.csv\n",
      "DataFrame from ../data/dbnl_sentences/df_2125.csv is empty or has no columns.\n",
      "No data in file: ../data/dbnl_sentences/df_1542.csv\n",
      "No data in file: ../data/dbnl_sentences/df_2904.csv\n",
      "No data in file: ../data/dbnl_sentences/df_1982.csv\n",
      "DataFrame from ../data/dbnl_sentences/df_668.csv is empty or has no columns.\n",
      "No data in file: ../data/dbnl_sentences/df_1187.csv\n",
      "No data in file: ../data/dbnl_sentences/df_1765.csv\n",
      "No data in file: ../data/dbnl_sentences/df_2415.csv\n",
      "No data in file: ../data/dbnl_sentences/df_1500.csv\n",
      "No data in file: ../data/dbnl_sentences/df_194.csv\n",
      "No data in file: ../data/dbnl_sentences/df_72.csv\n",
      "DataFrame from ../data/dbnl_sentences/df_2703.csv is empty or has no columns.\n",
      "No data in file: ../data/dbnl_sentences/df_3288.csv\n",
      "No data in file: ../data/dbnl_sentences/df_556.csv\n",
      "No data in file: ../data/dbnl_sentences/df_2973.csv\n",
      "No data in file: ../data/dbnl_sentences/df_914.csv\n",
      "No data in file: ../data/dbnl_sentences/df_1910.csv\n",
      "No data in file: ../data/dbnl_sentences/df_2685.csv\n",
      "No data in file: ../data/dbnl_sentences/df_2368.csv\n",
      "No data in file: ../data/dbnl_sentences/df_2591.csv\n",
      "DataFrame from ../data/dbnl_sentences/df_1633.csv is empty or has no columns.\n",
      "DataFrame from ../data/dbnl_sentences/df_684.csv is empty or has no columns.\n",
      "No data in file: ../data/dbnl_sentences/df_1852.csv\n",
      "DataFrame from ../data/dbnl_sentences/df_379.csv is empty or has no columns.\n",
      "No data in file: ../data/dbnl_sentences/df_8.csv\n",
      "No data in file: ../data/dbnl_sentences/df_1582.csv\n",
      "No data in file: ../data/dbnl_sentences/df_517.csv\n",
      "No data in file: ../data/dbnl_sentences/df_1790.csv\n",
      "No data in file: ../data/dbnl_sentences/df_2314.csv\n",
      "No data in file: ../data/dbnl_sentences/df_2426.csv\n",
      "No data in file: ../data/dbnl_sentences/df_2517.csv\n",
      "No data in file: ../data/dbnl_sentences/df_530.csv\n",
      "No data in file: ../data/dbnl_sentences/df_3250.csv\n",
      "No data in file: ../data/dbnl_sentences/df_507.csv\n",
      "No data in file: ../data/dbnl_sentences/df_913.csv\n",
      "No data in file: ../data/dbnl_sentences/df_3383.csv\n",
      "No data in file: ../data/dbnl_sentences/df_3207.csv\n",
      "No data in file: ../data/dbnl_sentences/df_2640.csv\n",
      "No data in file: ../data/dbnl_sentences/df_565.csv\n",
      "DataFrame from ../data/dbnl_sentences/df_2011.csv is empty or has no columns.\n",
      "No data in file: ../data/dbnl_sentences/df_2341.csv\n",
      "No data in file: ../data/dbnl_sentences/df_3292.csv\n",
      "No data in file: ../data/dbnl_sentences/df_1272.csv\n",
      "No data in file: ../data/dbnl_sentences/df_155.csv\n",
      "No data in file: ../data/dbnl_sentences/df_3.csv\n",
      "No data in file: ../data/dbnl_sentences/df_1153.csv\n",
      "No data in file: ../data/dbnl_sentences/df_244.csv\n",
      "No data in file: ../data/dbnl_sentences/df_2704.csv\n",
      "No data in file: ../data/dbnl_sentences/df_2879.csv\n",
      "No data in file: ../data/dbnl_sentences/df_2643.csv\n",
      "No data in file: ../data/dbnl_sentences/df_889.csv\n",
      "No data in file: ../data/dbnl_sentences/df_2134.csv\n",
      "No data in file: ../data/dbnl_sentences/df_1834.csv\n",
      "No data in file: ../data/dbnl_sentences/df_3350.csv\n",
      "DataFrame from ../data/dbnl_sentences/df_279.csv is empty or has no columns.\n",
      "No data in file: ../data/dbnl_sentences/df_1193.csv\n",
      "No data in file: ../data/dbnl_sentences/df_312.csv\n",
      "No data in file: ../data/dbnl_sentences/df_1111.csv\n",
      "No data in file: ../data/dbnl_sentences/df_1094.csv\n",
      "No data in file: ../data/dbnl_sentences/df_3191.csv\n",
      "No data in file: ../data/dbnl_sentences/df_474.csv\n",
      "No data in file: ../data/dbnl_sentences/df_816.csv\n",
      "No data in file: ../data/dbnl_sentences/df_1347.csv\n",
      "DataFrame from ../data/dbnl_sentences/df_2800.csv is empty or has no columns.\n",
      "No data in file: ../data/dbnl_sentences/df_7.csv\n",
      "No data in file: ../data/dbnl_sentences/df_1761.csv\n",
      "No data in file: ../data/dbnl_sentences/df_1777.csv\n",
      "DataFrame from ../data/dbnl_sentences/df_1253.csv is empty or has no columns.\n",
      "No data in file: ../data/dbnl_sentences/df_1648.csv\n",
      "DataFrame from ../data/dbnl_sentences/df_1535.csv is empty or has no columns.\n",
      "No data in file: ../data/dbnl_sentences/df_2888.csv\n",
      "No data in file: ../data/dbnl_sentences/df_3280.csv\n",
      "No data in file: ../data/dbnl_sentences/df_2882.csv\n",
      "No data in file: ../data/dbnl_sentences/df_1026.csv\n",
      "No data in file: ../data/dbnl_sentences/df_1151.csv\n",
      "DataFrame from ../data/dbnl_sentences/df_2781.csv is empty or has no columns.\n",
      "No data in file: ../data/dbnl_sentences/df_3377.csv\n",
      "No data in file: ../data/dbnl_sentences/df_2610.csv\n",
      "No data in file: ../data/dbnl_sentences/df_1379.csv\n",
      "No data in file: ../data/dbnl_sentences/df_3008.csv\n",
      "DataFrame from ../data/dbnl_sentences/df_810.csv is empty or has no columns.\n",
      "No data in file: ../data/dbnl_sentences/df_796.csv\n",
      "DataFrame from ../data/dbnl_sentences/df_3236.csv is empty or has no columns.\n",
      "No data in file: ../data/dbnl_sentences/df_21.csv\n",
      "No data in file: ../data/dbnl_sentences/df_3260.csv\n"
     ]
    }
   ],
   "source": [
    "output_dir = \"../data/chunks\"\n",
    "create_if_absent(output_dir)\n",
    "\n",
    "# Assuming all your dataframe names or paths are in a list\n",
    "all_dataframe_paths = [os.path.join(\"../data/dbnl_sentences\", p) for p in list_extension_files(\"../data/dbnl_sentences\", \"csv\")]\n",
    "chunk_size = 500  # Adjust this based on your system's capability\n",
    "processed_chunks = []\n",
    "\n",
    "for i in range(0, len(all_dataframe_paths), chunk_size):\n",
    "    chunk_paths = all_dataframe_paths[i:i + chunk_size]\n",
    "    chunk_dfs = []\n",
    "    for path in chunk_paths:\n",
    "        try:\n",
    "            df = pd.read_csv(path)\n",
    "            if not df.empty and df.columns.size > 0:  # Check if dataframe has columns\n",
    "                chunk_dfs.append(df)\n",
    "            else:\n",
    "                print(f\"DataFrame from {path} is empty or has no columns.\")\n",
    "        except FileNotFoundError as e:\n",
    "            print(f\"File not found: {path}\")\n",
    "        except pd.errors.EmptyDataError:\n",
    "            print(f\"No data in file: {path}\")\n",
    "        except Exception as e:\n",
    "            print(f\"Error reading file {path}: {e}\")\n",
    "    \n",
    "    if chunk_dfs:\n",
    "        processed_chunk = process_chunk(chunk_dfs)\n",
    "        chunk_name = f'processed_chunk_{i // chunk_size}.csv'\n",
    "        f_path = os.path.join(output_dir, chunk_name)\n",
    "        processed_chunk.to_csv(f_path, index=False)\n",
    "        processed_chunks.append(f'processed_chunk_{i // chunk_size}.csv')\n",
    "        \n",
    "# Finally, combine, shuffle, and batch the processed chunks\n",
    "final_df = pd.concat([pd.read_csv(f'../data/chunks/{chunk}') for chunk in processed_chunks])\n",
    "final_df_no_duplicates = final_df.drop_duplicates(subset='sentences')\n",
    "final_shuffled_df = final_df_no_duplicates.sample(frac=1).reset_index(drop=True)"
   ]
  },
  {
   "cell_type": "markdown",
   "metadata": {},
   "source": [
    "## Save in batches of 100.000"
   ]
  },
  {
   "cell_type": "code",
   "execution_count": 46,
   "metadata": {},
   "outputs": [
    {
     "name": "stdout",
     "output_type": "stream",
     "text": [
      "Directory ../data/sentence_batches created\n"
     ]
    }
   ],
   "source": [
    "create_if_absent(\"../data/sentence_batches\")\n",
    "batch_size = 100000\n",
    "for i in range(0, len(final_shuffled_df), batch_size):\n",
    "    batch = final_shuffled_df.iloc[i:i + batch_size]\n",
    "    batch.to_csv(f'../data/sentence_batches/final_batch_{i // batch_size}.csv', index=False)"
   ]
  },
  {
   "cell_type": "markdown",
   "metadata": {},
   "source": [
    "## Diagnostics"
   ]
  },
  {
   "cell_type": "code",
   "execution_count": null,
   "metadata": {},
   "outputs": [],
   "source": [
    "folder_paths = ['../data/dbnl_xml', '../data/dbnl_txt', '../data/dbnl_folia', '../data/dbnl_sentences']\n",
    "\n",
    "for p in folder_paths:\n",
    "    num_files = count_files_in_folder(p)\n",
    "    print(f\"Number of files in '{p}': {num_files}\")"
   ]
  }
 ],
 "metadata": {
  "colab": {
   "provenance": []
  },
  "kernelspec": {
   "display_name": "Python 3 (ipykernel)",
   "language": "python",
   "name": "python3"
  },
  "language_info": {
   "codemirror_mode": {
    "name": "ipython",
    "version": 3
   },
   "file_extension": ".py",
   "mimetype": "text/x-python",
   "name": "python",
   "nbconvert_exporter": "python",
   "pygments_lexer": "ipython3",
   "version": "3.11.6"
  }
 },
 "nbformat": 4,
 "nbformat_minor": 4
}
