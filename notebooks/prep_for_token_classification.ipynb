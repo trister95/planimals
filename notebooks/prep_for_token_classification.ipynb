{
 "cells": [
  {
   "cell_type": "markdown",
   "metadata": {},
   "source": [
    "## Imports"
   ]
  },
  {
   "cell_type": "code",
   "execution_count": 87,
   "metadata": {},
   "outputs": [],
   "source": [
    "%run ../src/utils.py\n",
    "%run ../src/llm_annotation.py"
   ]
  },
  {
   "cell_type": "markdown",
   "metadata": {},
   "source": [
    "## Setting the stage"
   ]
  },
  {
   "cell_type": "code",
   "execution_count": 7,
   "metadata": {},
   "outputs": [],
   "source": [
    "env = Env()\n",
    "env.read_env(\".env\")  # Read .env file\n",
    "OPENAI_API_KEY = env(\"OPENAI_API_KEY\")  # Get the API key\n",
    "OPEN_AI_TOKEN_I_PRICE = 0.003 / 1000\n",
    "OPEN_AI_TOKEN_O_PRICE = 0.006 / 1000\n",
    "openai.api_key = OPENAI_API_KEY"
   ]
  },
  {
   "cell_type": "markdown",
   "metadata": {},
   "source": [
    "## Select sentences"
   ]
  },
  {
   "cell_type": "code",
   "execution_count": null,
   "metadata": {},
   "outputs": [],
   "source": [
    "df = pd.read_csv(\"\")\n",
    "sentences = df[\"sentences\"].tolist()"
   ]
  },
  {
   "cell_type": "markdown",
   "metadata": {},
   "source": [
    "## Feed to LLM"
   ]
  },
  {
   "cell_type": "code",
   "execution_count": null,
   "metadata": {},
   "outputs": [],
   "source": [
    "prompt = ChatPromptTemplate.from_template(\n",
    "    \"You'll analyze Old Dutch sentences to identify plants and animals. Given a sentence provide the following fields in a JSON dict: 'plants', 'animals'. Remember: Tag only explicit references to plants or animals. Ignore plant/animal parts, products, and habitats. No tagging of particles. Tag only the nouns that directly refer to the plant or animal, excluding adjectives that are not part of a species' common name or a proper noun. Tag literally (use the exact same spelling as in the Dutch sentence). Text: {x}\"\n",
    ")\n",
    "model = ChatOpenAI(model=\"ft:gpt-3.5-turbo-1106:personal::8KmdqIHA\")\n",
    "map_ = RunnableMap(x=RunnablePassthrough())\n",
    "chain = map_ | prompt | model | SimpleJsonOutputParser()"
   ]
  },
  {
   "cell_type": "code",
   "execution_count": null,
   "metadata": {},
   "outputs": [],
   "source": [
    "results = []\n",
    "batch_size = 100  # Adjust based on your needs and API limitations\n",
    "batches = [sentences[i : i + batch_size] for i in range(0, len(sentences), batch_size)]\n",
    "\n",
    "for batch in tqdm(batches, desc=\"Processing batches\"):\n",
    "    batch_results = process_batch_llm()\n",
    "    results.extend(batch_results)\n",
    "\n",
    "df = pd.DataFrame(results, columns=[\"sentence\", \"labels\", \"flagged\"])\n",
    "df.to_csv(\"plants_animals.csv\", index=False)"
   ]
  },
  {
   "cell_type": "markdown",
   "metadata": {},
   "source": [
    "## Transform to IOB"
   ]
  },
  {
   "cell_type": "code",
   "execution_count": 33,
   "metadata": {},
   "outputs": [],
   "source": [
    "from transformers import AutoTokenizer\n",
    "model_checkpoint = \"emanjavacas/GysBERT\"\n",
    "tokenizer = AutoTokenizer.from_pretrained(model_checkpoint)"
   ]
  },
  {
   "cell_type": "code",
   "execution_count": 64,
   "metadata": {},
   "outputs": [
    {
     "name": "stdout",
     "output_type": "stream",
     "text": [
      "                                              Sentence Labels  Flagged\n",
      "0    Ja, thans is de eeuwenkring van haet en twist ...     []    False\n",
      "1    ' Snorri bekende, dat hij met het voornemen ge...     []    False\n",
      "2    Op vele plaatsen zijn kweekscholen opgerigt, w...     []    False\n",
      "3    De Romeinen eerden haar als Aarde onder den na...     []    False\n",
      "4    [Zie de Ophelder.] Hier trachtede zij den Koni...     []    False\n",
      "..                                                 ...    ...      ...\n",
      "769  Éen van de ‘tien geboden’, waartegen niet telk...     []    False\n",
      "770  - Heeft God vóór Adam's vooruitgezienen val, o...     []    False\n",
      "771                                            - Neen!     []    False\n",
      "772  De bekoorlijke Wilhelmina voert haar heir aan,...     []    False\n",
      "773  Het beroep van van rebnen tot het Amsterdamsch...     []    False\n",
      "\n",
      "[774 rows x 3 columns]\n"
     ]
    }
   ],
   "source": [
    "a = pd.read_csv(\"/home/arjan_v_d/planimals/data/plants_animals.csv\")\n",
    "print(a)\n"
   ]
  },
  {
   "cell_type": "code",
   "execution_count": 85,
   "metadata": {},
   "outputs": [
    {
     "name": "stdout",
     "output_type": "stream",
     "text": [
      "                                              Sentence  \\\n",
      "60   Nimfen, die ons kunt bekooren, Zet u neder by ...   \n",
      "66   Van Lennep behoorde niet tot die geleerden, we...   \n",
      "83                                 Waterlelie (De) 329   \n",
      "84   Is het geene taak harer waardig, dat glad geka...   \n",
      "88   Het schijnt in den eersten opslag ontleend van...   \n",
      "99                                            Zie Cat.   \n",
      "115  Wilt, etc. Een nieu Liedt voor den Heer verhev...   \n",
      "143                                slym van Vlookruid.   \n",
      "157  Vast stondt te loeren, kromt het taaie walvisc...   \n",
      "164  De waarheid hier van heeft Artemisia, gemalin ...   \n",
      "173  De kinderen Gods dan en de kerk, en in het bys...   \n",
      "223  18 Ick sagh dat de boose met zijn gesellen See...   \n",
      "254                                          visikoff.   \n",
      "258  In de toepassing worden verscheidene dagelijks...   \n",
      "259  14 Dit bedenckende, sullen zijn bekeert De vol...   \n",
      "277  Eenige andere sonderlinge waerneemingen aen de...   \n",
      "280  O Heer, sent toch uw' herders weer, In alle pa...   \n",
      "299  Gout is, &c. Wat is dat root gewant Dat purper...   \n",
      "305  Door Michigan, Indiana en een deel van Illinoi...   \n",
      "347  ‘Mais quand vous avez fait ce charmant quoiqu'...   \n",
      "364  De levende ratel-, koper- en goudslangen zijn ...   \n",
      "375  Langs de overzijde der rivier uwen weg vervolg...   \n",
      "408  achter de woorden: ‘al stond er de doodstraf o...   \n",
      "427  Panda had hem overwonnen en op de vlucht gesla...   \n",
      "438  Deze arme misleide diertjes met eigen hand te ...   \n",
      "459  Komt hier ghy Nymphkens dan, komt Herders goed...   \n",
      "472  Hy gaat oock door, Veel daalen en valeyen, Die...   \n",
      "499  In dese Wtrechtse kermisse is een os te sien g...   \n",
      "535  Vw Knechten om-gebraght, Haer Rompen, ongeacht...   \n",
      "551           of een zeggen, als dat in het treurspel:   \n",
      "588               Ben ik dan minder dan dier en plant?   \n",
      "601                                bengaalsche hennep.   \n",
      "616  Palm-boomen Ceders schoon, en Olijf-boomen soe...   \n",
      "626     Den oppersten prijsde Gout-blom van ter Goude.   \n",
      "634  Want terwyl de Heer kersseboom stelt, dat 35 P...   \n",
      "641  Ick docht, hoe goedt is Godt den Heer, Die ons...   \n",
      "701  - ‘Voor de asch van asmund,’ hernam hij; ‘onde...   \n",
      "763  Hij verkneukelt er zich nu in, dat het snuiven...   \n",
      "\n",
      "                                                Labels  Flagged  is_filled  \n",
      "60            [[50, 54, 'plants'], [82, 89, 'plants']]    False       True  \n",
      "66                             [[199, 203, 'animals']]    False       True  \n",
      "83                                 [[0, 10, 'plants']]    False       True  \n",
      "84   [[67, 75, 'animals'], [117, 129, 'animals'], [...    False       True  \n",
      "88         [[82, 89, 'animals'], [93, 103, 'animals']]    False       True  \n",
      "99                                 [[4, 7, 'animals']]    False       True  \n",
      "115                            [[142, 150, 'animals']]    False       True  \n",
      "143                                [[9, 18, 'plants']]    False       True  \n",
      "157                              [[39, 51, 'animals']]    False       True  \n",
      "164                               [[27, 36, 'plants']]    False       True  \n",
      "173       [[104, 108, 'plants'], [112, 117, 'plants']]    False       True  \n",
      "223                              [[97, 104, 'plants']]    False       True  \n",
      "254                                [[0, 8, 'animals']]    False       True  \n",
      "258                            [[234, 240, 'animals']]    False       True  \n",
      "259                            [[105, 110, 'animals']]    False       True  \n",
      "277                              [[47, 58, 'animals']]    False       True  \n",
      "280                              [[73, 83, 'animals']]    False       True  \n",
      "299                              [[64, 71, 'animals']]    False       True  \n",
      "305  [[60, 77, 'plants'], [79, 90, 'plants'], [156,...    False       True  \n",
      "347                                 [[1, 5, 'plants']]    False       True  \n",
      "364  [[11, 17, 'animals'], [19, 25, 'animals'], [29...    False       True  \n",
      "375       [[377, 383, 'plants'], [387, 395, 'plants']]    False       True  \n",
      "408                             [[96, 108, 'animals']]    False       True  \n",
      "427                                [[0, 5, 'animals']]    False       True  \n",
      "438  [[19, 27, 'animals'], [113, 125, 'animals'], [...    False       True  \n",
      "459                             [[94, 104, 'animals']]    False       True  \n",
      "472                            [[113, 120, 'animals']]    False       True  \n",
      "499  [[34, 36, 'animals'], [120, 131, 'animals'], [...    False       True  \n",
      "535       [[51, 57, 'animals'], [129, 136, 'animals']]    False       True  \n",
      "551                                [[7, 13, 'plants']]    False       True  \n",
      "588          [[30, 35, 'plants'], [22, 26, 'animals']]    False       True  \n",
      "601                               [[12, 18, 'plants']]    False       True  \n",
      "616            [[0, 11, 'plants'], [30, 42, 'plants']]    False       True  \n",
      "626                               [[22, 31, 'plants']]    False       True  \n",
      "634                               [[20, 30, 'plants']]    False       True  \n",
      "641                            [[104, 113, 'animals']]    False       True  \n",
      "701                               [[52, 56, 'plants']]    False       True  \n",
      "763                               [[55, 63, 'plants']]    False       True  \n"
     ]
    }
   ],
   "source": [
    "a['is_filled'] = a['Labels'].apply(lambda x: x != \"[]\")\n",
    "b = a[a[\"is_filled\"]==True]\n",
    "print(b)"
   ]
  },
  {
   "cell_type": "code",
   "execution_count": 89,
   "metadata": {},
   "outputs": [
    {
     "data": {
      "text/plain": [
       "Index(['Sentence', 'Labels', 'Flagged', 'is_filled'], dtype='object')"
      ]
     },
     "execution_count": 89,
     "metadata": {},
     "output_type": "execute_result"
    }
   ],
   "source": [
    "b.columns"
   ]
  },
  {
   "cell_type": "code",
   "execution_count": 91,
   "metadata": {},
   "outputs": [
    {
     "name": "stderr",
     "output_type": "stream",
     "text": [
      "/tmp/ipykernel_2078/2907485535.py:1: SettingWithCopyWarning: \n",
      "A value is trying to be set on a copy of a slice from a DataFrame.\n",
      "Try using .loc[row_indexer,col_indexer] = value instead\n",
      "\n",
      "See the caveats in the documentation: https://pandas.pydata.org/pandas-docs/stable/user_guide/indexing.html#returning-a-view-versus-a-copy\n",
      "  b['Labels'] = b['Labels'].apply(ast.literal_eval)\n",
      "/tmp/ipykernel_2078/2907485535.py:3: SettingWithCopyWarning: \n",
      "A value is trying to be set on a copy of a slice from a DataFrame.\n",
      "Try using .loc[row_indexer,col_indexer] = value instead\n",
      "\n",
      "See the caveats in the documentation: https://pandas.pydata.org/pandas-docs/stable/user_guide/indexing.html#returning-a-view-versus-a-copy\n",
      "  b['tokenized_IOB_label'] = b.apply(lambda row: align_labels_with_tokens_IOB(tokenizer, row['Sentence'], row['Labels']), axis=1)\n"
     ]
    }
   ],
   "source": [
    "b['Labels'] = b['Labels'].apply(ast.literal_eval)\n",
    "b['tokenized_IOB_label'] = b.apply(lambda row: align_labels_with_tokens_IOB(tokenizer, row['Sentence'], row['Labels']), axis=1)\n",
    "\n"
   ]
  },
  {
   "cell_type": "code",
   "execution_count": 93,
   "metadata": {},
   "outputs": [],
   "source": [
    "b.to_csv(\"test.csv\")"
   ]
  }
 ],
 "metadata": {
  "kernelspec": {
   "display_name": "Python 3",
   "language": "python",
   "name": "python3"
  },
  "language_info": {
   "codemirror_mode": {
    "name": "ipython",
    "version": 3
   },
   "file_extension": ".py",
   "mimetype": "text/x-python",
   "name": "python",
   "nbconvert_exporter": "python",
   "pygments_lexer": "ipython3",
   "version": "3.11.6"
  }
 },
 "nbformat": 4,
 "nbformat_minor": 2
}
